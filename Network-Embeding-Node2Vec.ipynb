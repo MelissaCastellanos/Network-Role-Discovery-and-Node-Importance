{
 "cells": [
  {
   "cell_type": "code",
   "execution_count": 1,
   "id": "92a7ae96-daca-4538-b99e-11906e8a274f",
   "metadata": {},
   "outputs": [
    {
     "ename": "ModuleNotFoundError",
     "evalue": "No module named 'hdbscan'",
     "output_type": "error",
     "traceback": [
      "\u001b[1;31m---------------------------------------------------------------------------\u001b[0m",
      "\u001b[1;31mModuleNotFoundError\u001b[0m                       Traceback (most recent call last)",
      "Cell \u001b[1;32mIn[1], line 1\u001b[0m\n\u001b[1;32m----> 1\u001b[0m \u001b[38;5;28;01mimport\u001b[39;00m \u001b[38;5;21;01mhdbscan\u001b[39;00m\n\u001b[0;32m      2\u001b[0m \u001b[38;5;28;01mimport\u001b[39;00m \u001b[38;5;21;01mmatplotlib\u001b[39;00m\u001b[38;5;21;01m.\u001b[39;00m\u001b[38;5;21;01mpyplot\u001b[39;00m \u001b[38;5;28;01mas\u001b[39;00m \u001b[38;5;21;01mplt\u001b[39;00m\n\u001b[0;32m      3\u001b[0m \u001b[38;5;28;01mimport\u001b[39;00m \u001b[38;5;21;01mnetworkx\u001b[39;00m \u001b[38;5;28;01mas\u001b[39;00m \u001b[38;5;21;01mnx\u001b[39;00m\n",
      "\u001b[1;31mModuleNotFoundError\u001b[0m: No module named 'hdbscan'"
     ]
    }
   ],
   "source": [
    "import hdbscan\n",
    "import matplotlib.pyplot as plt\n",
    "import networkx as nx\n",
    "import numpy as np\n",
    "import pandas as pd\n",
    "import random\n",
    "\n",
    "from node2vec import Node2Vec\n",
    "from sklearn.cluster import DBSCAN\n",
    "from sklearn.decomposition import PCA\n",
    "from sklearn.neighbors import NearestNeighbors\n",
    "from sklearn.metrics import silhouette_score, davies_bouldin_score\n",
    "from sklearn.mixture import GaussianMixture\n",
    "from sklearn.neighbors import NearestNeighbors\n",
    "from sklearn.preprocessing import StandardScaler\n",
    "from umap.umap_ import UMAP"
   ]
  },
  {
   "cell_type": "code",
   "execution_count": 2,
   "id": "35000022-a7bb-45a8-8623-9a792aec2e03",
   "metadata": {},
   "outputs": [],
   "source": [
    "# Load the edge list\n",
    "df = pd.read_csv(\n",
    "    'soc-sign-bitcoinotc.csv',\n",
    "    header=None,\n",
    "    names=['source','target','rating','timestamp']\n",
    ")"
   ]
  },
  {
   "cell_type": "code",
   "execution_count": 3,
   "id": "c05ccacb-bc4d-4754-83a3-1d6769eec8fb",
   "metadata": {},
   "outputs": [],
   "source": [
    "# Build an undirected graph\n",
    "G = nx.from_pandas_edgelist(df, source='source', target='target', create_using=nx.Graph())"
   ]
  },
  {
   "cell_type": "code",
   "execution_count": 4,
   "id": "73ed0c13-a1b4-48ca-92bc-6012933b569c",
   "metadata": {},
   "outputs": [
    {
     "data": {
      "application/vnd.jupyter.widget-view+json": {
       "model_id": "dd3b103ad8274861982db163b58dd399",
       "version_major": 2,
       "version_minor": 0
      },
      "text/plain": [
       "Computing transition probabilities:   0%|          | 0/5881 [00:00<?, ?it/s]"
      ]
     },
     "metadata": {},
     "output_type": "display_data"
    },
    {
     "name": "stderr",
     "output_type": "stream",
     "text": [
      "Generating walks (CPU: 1): 100%|██████████| 25/25 [00:27<00:00,  1.08s/it]\n",
      "Generating walks (CPU: 2): 100%|██████████| 25/25 [00:27<00:00,  1.09s/it]\n",
      "Generating walks (CPU: 3): 100%|██████████| 25/25 [00:27<00:00,  1.10s/it]\n",
      "Generating walks (CPU: 4): 100%|██████████| 25/25 [00:27<00:00,  1.11s/it]\n"
     ]
    }
   ],
   "source": [
    "# Initialize Node2Vec model\n",
    "n2v = Node2Vec(\n",
    "    graph=G,\n",
    "    dimensions=64,    # embedding size\n",
    "    walk_length=30,   # nodes per walk\n",
    "    num_walks=100,    # walks per node\n",
    "    p=1,              # return hyperparameter\n",
    "    q=1,              # in-out hyperparameter\n",
    "    workers=4         # parallel workers\n",
    ")"
   ]
  },
  {
   "cell_type": "code",
   "execution_count": 5,
   "id": "5aee3942-df3e-484f-87dd-ee57f9fbfb6e",
   "metadata": {},
   "outputs": [],
   "source": [
    "# Fit the model\n",
    "model = n2v.fit(\n",
    "    window=10,       # context window size for Word2Vec\n",
    "    min_count=1,\n",
    "    batch_words=4\n",
    ")"
   ]
  },
  {
   "cell_type": "code",
   "execution_count": 6,
   "id": "b6501383-edf0-4251-ae78-ac1037fe33d2",
   "metadata": {},
   "outputs": [],
   "source": [
    "# Extract embeddings into a DataFrame\n",
    "nodes = model.wv.index_to_key\n",
    "embeddings = model.wv.vectors\n",
    "\n",
    "df_embed = pd.DataFrame(embeddings, index=nodes)\n",
    "df_embed.index.name = 'node'\n",
    "df_embed.reset_index(inplace=True)\n",
    "df_embed.columns = ['node'] + [f'emb_{i}' for i in range(df_embed.shape[1]-1)]"
   ]
  },
  {
   "cell_type": "code",
   "execution_count": 7,
   "id": "a9d0d61c-edca-4184-9ffd-60b63214e8df",
   "metadata": {},
   "outputs": [
    {
     "name": "stdout",
     "output_type": "stream",
     "text": [
      "Saved 5881×64 embeddings to node2vec_embeddings.csv\n",
      "   node     emb_0     emb_1     emb_2     emb_3     emb_4     emb_5     emb_6  \\\n",
      "0    35 -0.009817 -0.096486 -0.300090  0.210527 -0.209326 -0.235928  0.252973   \n",
      "1  2125 -0.001011  0.061155  0.063402  0.409484 -0.342134  0.144455  0.061421   \n",
      "2  2642 -0.076543  0.361902  0.409329 -0.035570 -0.492301 -0.382901  0.047366   \n",
      "3  1810  0.215682  0.044848  0.346824  0.099685 -0.262268 -0.115490 -0.201684   \n",
      "4  2028  0.237684 -0.153782 -0.042848  0.215890 -0.077207 -0.286538  0.330776   \n",
      "\n",
      "      emb_7     emb_8  ...    emb_54    emb_55    emb_56    emb_57    emb_58  \\\n",
      "0  0.167418 -0.175276  ...  0.135669 -0.321643  0.075336 -0.431944 -0.193827   \n",
      "1  0.302993 -0.193152  ...  0.195432 -0.259323 -0.176727 -0.395155  0.179930   \n",
      "2 -0.250028 -0.041615  ...  0.333385 -0.187342 -0.328212 -0.446724 -0.372100   \n",
      "3  0.214607  0.210846  ...  0.144164 -0.082128  0.105108 -0.466108 -0.027350   \n",
      "4 -0.303926 -0.445020  ...  0.164616  0.011330 -0.021370 -0.557972 -0.133961   \n",
      "\n",
      "     emb_59    emb_60    emb_61    emb_62    emb_63  \n",
      "0  0.172974 -0.004759  0.103492 -0.208999 -0.302737  \n",
      "1 -0.200083 -0.120362 -0.282385 -0.050698  0.580714  \n",
      "2  0.073257 -0.060567  0.172392  0.098984  0.028758  \n",
      "3  0.144325 -0.186891 -0.257813 -0.085099  0.059952  \n",
      "4  0.311159 -0.054614 -0.239175 -0.377798  0.460221  \n",
      "\n",
      "[5 rows x 65 columns]\n"
     ]
    }
   ],
   "source": [
    "# Save to CSV\n",
    "output_path = 'node2vec_embeddings.csv'\n",
    "df_embed.to_csv(output_path, index=False)\n",
    "\n",
    "print(f\"Saved {len(df_embed)}×{embeddings.shape[1]} embeddings to {output_path}\")\n",
    "print(df_embed.head())"
   ]
  },
  {
   "cell_type": "code",
   "execution_count": 9,
   "id": "bff820d6-5634-4066-9648-baf04f4505eb",
   "metadata": {},
   "outputs": [],
   "source": [
    "# Load embeddings\n",
    "df_embed = pd.read_csv('node2vec_embeddings.csv')\n",
    "X = df_embed.drop('node', axis=1).values"
   ]
  },
  {
   "cell_type": "code",
   "execution_count": 56,
   "id": "cab8cc5f-23d8-4cb8-891f-169af7810951",
   "metadata": {},
   "outputs": [
    {
     "name": "stdout",
     "output_type": "stream",
     "text": [
      "Hopkins (scaled): 0.839\n",
      "PCA reduced dimensions: 53\n",
      "Hopkins (PCA): 0.840\n",
      "Data still not clusterable — consider tuning embedding hyperparameters or trying alternative distance metrics.\n"
     ]
    }
   ],
   "source": [
    "# Hopkins statistic function\n",
    "def hopkins_statistic(X, n_samples=min(100, 50)):\n",
    "    X = np.asarray(X)\n",
    "    n, d = X.shape\n",
    "    m = min(n_samples, n//2)\n",
    "    # Sample real points\n",
    "    idx = random.sample(range(n), m)\n",
    "    X_sample = X[idx]\n",
    "    # Generate uniform points\n",
    "    U = np.random.uniform(np.min(X, axis=0), np.max(X, axis=0), (m, d))\n",
    "    nbrs = NearestNeighbors(n_neighbors=1).fit(X)\n",
    "    u_dist, _ = nbrs.kneighbors(U)\n",
    "    w_nbrs = NearestNeighbors(n_neighbors=2).fit(X)\n",
    "    w_dist, _ = w_nbrs.kneighbors(X_sample)\n",
    "    w_dist = w_dist[:, 1].reshape(-1, 1)\n",
    "    H = np.sum(u_dist) / (np.sum(u_dist) + np.sum(w_dist))\n",
    "    return H\n",
    "\n",
    "\n",
    "# Scale embeddings\n",
    "scaler = StandardScaler()\n",
    "X_scaled = scaler.fit_transform(X)\n",
    "\n",
    "# Hopkins on scaled data\n",
    "H_scaled = hopkins_statistic(X_scaled)\n",
    "print(f'Hopkins (scaled): {H_scaled:.3f}')\n",
    "\n",
    "# Dimensionality reduction with PCA (retain 90% variance)\n",
    "pca = PCA(n_components=0.90, random_state=42)\n",
    "X_pca = pca.fit_transform(X_scaled)\n",
    "print(f'PCA reduced dimensions: {X_pca.shape[1]}')\n",
    "\n",
    "# Hopkins on PCA-reduced data\n",
    "H_pca = hopkins_statistic(X_pca)\n",
    "print(f'Hopkins (PCA): {H_pca:.3f}')\n",
    "\n",
    "# Try density-based clustering if clusterable\n",
    "if H_pca < 0.5:\n",
    "    db = DBSCAN(eps=0.5, min_samples=5).fit(X_pca)\n",
    "    labels = db.labels_\n",
    "    n_clusters = len(set(labels)) - (1 if -1 in labels else 0)\n",
    "    print(f'DBSCAN found {n_clusters} clusters')\n",
    "else:\n",
    "    print(\"Data still not clusterable — consider tuning embedding hyperparameters or trying alternative distance metrics.\")"
   ]
  },
  {
   "cell_type": "code",
   "execution_count": 60,
   "id": "67c98bf7-5f0f-4237-862b-e5d9a3ae6e1a",
   "metadata": {},
   "outputs": [
    {
     "data": {
      "application/vnd.jupyter.widget-view+json": {
       "model_id": "f5194573e81e46dd9804be52cf057e5d",
       "version_major": 2,
       "version_minor": 0
      },
      "text/plain": [
       "Computing transition probabilities:   0%|          | 0/5881 [00:00<?, ?it/s]"
      ]
     },
     "metadata": {},
     "output_type": "display_data"
    },
    {
     "name": "stderr",
     "output_type": "stream",
     "text": [
      "Generating walks (CPU: 1): 100%|██████████| 25/25 [00:29<00:00,  1.18s/it]\n",
      "Generating walks (CPU: 2): 100%|██████████| 25/25 [00:30<00:00,  1.23s/it]\n",
      "Generating walks (CPU: 3): 100%|██████████| 25/25 [00:30<00:00,  1.23s/it]\n",
      "Generating walks (CPU: 4): 100%|██████████| 25/25 [00:31<00:00,  1.25s/it]\n"
     ]
    },
    {
     "data": {
      "application/vnd.jupyter.widget-view+json": {
       "model_id": "3dd1c8a5bb0244c9ba9ebf3ffa9d0063",
       "version_major": 2,
       "version_minor": 0
      },
      "text/plain": [
       "Computing transition probabilities:   0%|          | 0/5881 [00:00<?, ?it/s]"
      ]
     },
     "metadata": {},
     "output_type": "display_data"
    },
    {
     "name": "stderr",
     "output_type": "stream",
     "text": [
      "Generating walks (CPU: 1): 100%|██████████| 25/25 [00:30<00:00,  1.23s/it]\n",
      "Generating walks (CPU: 2): 100%|██████████| 25/25 [00:31<00:00,  1.25s/it]\n",
      "Generating walks (CPU: 3): 100%|██████████| 25/25 [00:31<00:00,  1.25s/it]\n",
      "Generating walks (CPU: 4): 100%|██████████| 25/25 [00:31<00:00,  1.26s/it]\n"
     ]
    },
    {
     "data": {
      "application/vnd.jupyter.widget-view+json": {
       "model_id": "34b2c32c5d944a6d87f325fcc16033a7",
       "version_major": 2,
       "version_minor": 0
      },
      "text/plain": [
       "Computing transition probabilities:   0%|          | 0/5881 [00:00<?, ?it/s]"
      ]
     },
     "metadata": {},
     "output_type": "display_data"
    },
    {
     "name": "stderr",
     "output_type": "stream",
     "text": [
      "Generating walks (CPU: 1): 100%|██████████| 25/25 [00:32<00:00,  1.29s/it]\n",
      "Generating walks (CPU: 2): 100%|██████████| 25/25 [00:32<00:00,  1.31s/it]\n",
      "Generating walks (CPU: 3): 100%|██████████| 25/25 [00:32<00:00,  1.31s/it]\n",
      "Generating walks (CPU: 4): 100%|██████████| 25/25 [00:32<00:00,  1.31s/it]\n"
     ]
    },
    {
     "data": {
      "application/vnd.jupyter.widget-view+json": {
       "model_id": "ae6c338c28044e9db21800e8f3a36f6f",
       "version_major": 2,
       "version_minor": 0
      },
      "text/plain": [
       "Computing transition probabilities:   0%|          | 0/5881 [00:00<?, ?it/s]"
      ]
     },
     "metadata": {},
     "output_type": "display_data"
    },
    {
     "name": "stderr",
     "output_type": "stream",
     "text": [
      "Generating walks (CPU: 1): 100%|██████████| 25/25 [00:32<00:00,  1.31s/it]\n",
      "Generating walks (CPU: 2): 100%|██████████| 25/25 [00:33<00:00,  1.32s/it]\n",
      "Generating walks (CPU: 3): 100%|██████████| 25/25 [00:33<00:00,  1.32s/it]\n",
      "Generating walks (CPU: 4): 100%|██████████| 25/25 [00:33<00:00,  1.33s/it]\n"
     ]
    },
    {
     "data": {
      "application/vnd.jupyter.widget-view+json": {
       "model_id": "e64281cdc25443a797b32ff97a9f3fcf",
       "version_major": 2,
       "version_minor": 0
      },
      "text/plain": [
       "Computing transition probabilities:   0%|          | 0/5881 [00:00<?, ?it/s]"
      ]
     },
     "metadata": {},
     "output_type": "display_data"
    },
    {
     "name": "stderr",
     "output_type": "stream",
     "text": [
      "Generating walks (CPU: 1): 100%|██████████| 25/25 [00:32<00:00,  1.30s/it]\n",
      "Generating walks (CPU: 2): 100%|██████████| 25/25 [00:32<00:00,  1.31s/it]\n",
      "Generating walks (CPU: 3): 100%|██████████| 25/25 [00:32<00:00,  1.32s/it]\n",
      "Generating walks (CPU: 4): 100%|██████████| 25/25 [00:33<00:00,  1.32s/it]\n"
     ]
    },
    {
     "data": {
      "application/vnd.jupyter.widget-view+json": {
       "model_id": "27008fe562e74e4493ef836f5cbb96f8",
       "version_major": 2,
       "version_minor": 0
      },
      "text/plain": [
       "Computing transition probabilities:   0%|          | 0/5881 [00:00<?, ?it/s]"
      ]
     },
     "metadata": {},
     "output_type": "display_data"
    },
    {
     "name": "stderr",
     "output_type": "stream",
     "text": [
      "Generating walks (CPU: 1): 100%|██████████| 25/25 [00:32<00:00,  1.31s/it]\n",
      "Generating walks (CPU: 2): 100%|██████████| 25/25 [00:33<00:00,  1.32s/it]\n",
      "Generating walks (CPU: 4): 100%|██████████| 25/25 [00:33<00:00,  1.32s/it]\n",
      "Generating walks (CPU: 3): 100%|██████████| 25/25 [00:35<00:00,  1.44s/it]\n"
     ]
    },
    {
     "data": {
      "application/vnd.jupyter.widget-view+json": {
       "model_id": "f39431918b984bdb8befb622e89d6cc1",
       "version_major": 2,
       "version_minor": 0
      },
      "text/plain": [
       "Computing transition probabilities:   0%|          | 0/5881 [00:00<?, ?it/s]"
      ]
     },
     "metadata": {},
     "output_type": "display_data"
    },
    {
     "name": "stderr",
     "output_type": "stream",
     "text": [
      "Generating walks (CPU: 1): 100%|██████████| 25/25 [00:33<00:00,  1.34s/it]\n",
      "Generating walks (CPU: 2): 100%|██████████| 25/25 [00:33<00:00,  1.35s/it]\n",
      "Generating walks (CPU: 3): 100%|██████████| 25/25 [00:33<00:00,  1.35s/it]\n",
      "Generating walks (CPU: 4): 100%|██████████| 25/25 [00:33<00:00,  1.36s/it]\n"
     ]
    },
    {
     "data": {
      "application/vnd.jupyter.widget-view+json": {
       "model_id": "1114842dabbe47d5bdba1662dd04f144",
       "version_major": 2,
       "version_minor": 0
      },
      "text/plain": [
       "Computing transition probabilities:   0%|          | 0/5881 [00:00<?, ?it/s]"
      ]
     },
     "metadata": {},
     "output_type": "display_data"
    },
    {
     "name": "stderr",
     "output_type": "stream",
     "text": [
      "Generating walks (CPU: 1): 100%|██████████| 25/25 [00:35<00:00,  1.42s/it]\n",
      "Generating walks (CPU: 2): 100%|██████████| 25/25 [00:35<00:00,  1.43s/it]\n",
      "Generating walks (CPU: 3): 100%|██████████| 25/25 [00:36<00:00,  1.44s/it]\n",
      "Generating walks (CPU: 4): 100%|██████████| 25/25 [00:35<00:00,  1.43s/it]\n"
     ]
    },
    {
     "data": {
      "application/vnd.jupyter.widget-view+json": {
       "model_id": "cde5071847b94ce0bcd1f3b7fcbf5ab1",
       "version_major": 2,
       "version_minor": 0
      },
      "text/plain": [
       "Computing transition probabilities:   0%|          | 0/5881 [00:00<?, ?it/s]"
      ]
     },
     "metadata": {},
     "output_type": "display_data"
    },
    {
     "name": "stderr",
     "output_type": "stream",
     "text": [
      "Generating walks (CPU: 1): 100%|██████████| 25/25 [00:42<00:00,  1.68s/it]\n",
      "Generating walks (CPU: 2): 100%|██████████| 25/25 [00:42<00:00,  1.69s/it]\n",
      "Generating walks (CPU: 3): 100%|██████████| 25/25 [00:42<00:00,  1.71s/it]\n",
      "Generating walks (CPU: 4): 100%|██████████| 25/25 [00:42<00:00,  1.72s/it]\n"
     ]
    },
    {
     "data": {
      "application/vnd.jupyter.widget-view+json": {
       "model_id": "e842d67c000a4a2b816340f1cb0c1bc4",
       "version_major": 2,
       "version_minor": 0
      },
      "text/plain": [
       "Computing transition probabilities:   0%|          | 0/5881 [00:00<?, ?it/s]"
      ]
     },
     "metadata": {},
     "output_type": "display_data"
    },
    {
     "name": "stderr",
     "output_type": "stream",
     "text": [
      "Generating walks (CPU: 1): 100%|██████████| 25/25 [00:34<00:00,  1.37s/it]\n",
      "Generating walks (CPU: 2): 100%|██████████| 25/25 [00:34<00:00,  1.38s/it]\n",
      "Generating walks (CPU: 3): 100%|██████████| 25/25 [00:34<00:00,  1.38s/it]\n",
      "Generating walks (CPU: 4): 100%|██████████| 25/25 [00:34<00:00,  1.39s/it]\n"
     ]
    },
    {
     "data": {
      "application/vnd.jupyter.widget-view+json": {
       "model_id": "c1b4c379c1cd47d588c36de9cf89c6f8",
       "version_major": 2,
       "version_minor": 0
      },
      "text/plain": [
       "Computing transition probabilities:   0%|          | 0/5881 [00:00<?, ?it/s]"
      ]
     },
     "metadata": {},
     "output_type": "display_data"
    },
    {
     "name": "stderr",
     "output_type": "stream",
     "text": [
      "Generating walks (CPU: 1): 100%|██████████| 25/25 [00:33<00:00,  1.34s/it]\n",
      "Generating walks (CPU: 2): 100%|██████████| 25/25 [00:33<00:00,  1.35s/it]\n",
      "Generating walks (CPU: 3): 100%|██████████| 25/25 [00:33<00:00,  1.35s/it]\n",
      "Generating walks (CPU: 4): 100%|██████████| 25/25 [00:33<00:00,  1.35s/it]\n"
     ]
    },
    {
     "data": {
      "application/vnd.jupyter.widget-view+json": {
       "model_id": "a9a57475849842d69d7b3a07e276f44a",
       "version_major": 2,
       "version_minor": 0
      },
      "text/plain": [
       "Computing transition probabilities:   0%|          | 0/5881 [00:00<?, ?it/s]"
      ]
     },
     "metadata": {},
     "output_type": "display_data"
    },
    {
     "name": "stderr",
     "output_type": "stream",
     "text": [
      "Generating walks (CPU: 1): 100%|██████████| 25/25 [00:33<00:00,  1.33s/it]\n",
      "Generating walks (CPU: 2): 100%|██████████| 25/25 [00:33<00:00,  1.34s/it]\n",
      "Generating walks (CPU: 3): 100%|██████████| 25/25 [00:33<00:00,  1.35s/it]\n",
      "Generating walks (CPU: 4): 100%|██████████| 25/25 [00:33<00:00,  1.35s/it]\n"
     ]
    },
    {
     "data": {
      "application/vnd.jupyter.widget-view+json": {
       "model_id": "9fbf455a7ed54b1781c1c4f2c8e28f4f",
       "version_major": 2,
       "version_minor": 0
      },
      "text/plain": [
       "Computing transition probabilities:   0%|          | 0/5881 [00:00<?, ?it/s]"
      ]
     },
     "metadata": {},
     "output_type": "display_data"
    },
    {
     "name": "stderr",
     "output_type": "stream",
     "text": [
      "Generating walks (CPU: 1): 100%|██████████| 25/25 [00:37<00:00,  1.51s/it]\n",
      "Generating walks (CPU: 2): 100%|██████████| 25/25 [00:37<00:00,  1.52s/it]\n",
      "Generating walks (CPU: 3): 100%|██████████| 25/25 [00:38<00:00,  1.53s/it]\n",
      "Generating walks (CPU: 4): 100%|██████████| 25/25 [00:38<00:00,  1.53s/it]\n"
     ]
    },
    {
     "data": {
      "application/vnd.jupyter.widget-view+json": {
       "model_id": "f2215eb621a74de78a71b8bb4b7b8f97",
       "version_major": 2,
       "version_minor": 0
      },
      "text/plain": [
       "Computing transition probabilities:   0%|          | 0/5881 [00:00<?, ?it/s]"
      ]
     },
     "metadata": {},
     "output_type": "display_data"
    },
    {
     "name": "stderr",
     "output_type": "stream",
     "text": [
      "Generating walks (CPU: 1): 100%|██████████| 25/25 [00:34<00:00,  1.39s/it]\n",
      "Generating walks (CPU: 2): 100%|██████████| 25/25 [00:35<00:00,  1.41s/it]\n",
      "Generating walks (CPU: 3): 100%|██████████| 25/25 [00:35<00:00,  1.41s/it]\n",
      "Generating walks (CPU: 4): 100%|██████████| 25/25 [00:35<00:00,  1.41s/it]\n"
     ]
    },
    {
     "data": {
      "application/vnd.jupyter.widget-view+json": {
       "model_id": "21fb5801af4247ae91b5577c84d66791",
       "version_major": 2,
       "version_minor": 0
      },
      "text/plain": [
       "Computing transition probabilities:   0%|          | 0/5881 [00:00<?, ?it/s]"
      ]
     },
     "metadata": {},
     "output_type": "display_data"
    },
    {
     "name": "stderr",
     "output_type": "stream",
     "text": [
      "Generating walks (CPU: 1): 100%|██████████| 25/25 [00:42<00:00,  1.69s/it]\n",
      "Generating walks (CPU: 2): 100%|██████████| 25/25 [00:42<00:00,  1.70s/it]\n",
      "Generating walks (CPU: 3): 100%|██████████| 25/25 [00:42<00:00,  1.71s/it]\n",
      "Generating walks (CPU: 4): 100%|██████████| 25/25 [00:42<00:00,  1.71s/it]\n"
     ]
    },
    {
     "data": {
      "application/vnd.jupyter.widget-view+json": {
       "model_id": "19c86663b41a480496f5264718f7e05d",
       "version_major": 2,
       "version_minor": 0
      },
      "text/plain": [
       "Computing transition probabilities:   0%|          | 0/5881 [00:00<?, ?it/s]"
      ]
     },
     "metadata": {},
     "output_type": "display_data"
    },
    {
     "name": "stderr",
     "output_type": "stream",
     "text": [
      "Generating walks (CPU: 1): 100%|██████████| 25/25 [00:32<00:00,  1.31s/it]\n",
      "Generating walks (CPU: 2): 100%|██████████| 25/25 [00:32<00:00,  1.31s/it]\n",
      "Generating walks (CPU: 3): 100%|██████████| 25/25 [00:33<00:00,  1.33s/it]\n",
      "Generating walks (CPU: 4): 100%|██████████| 25/25 [00:33<00:00,  1.32s/it]\n"
     ]
    },
    {
     "data": {
      "application/vnd.jupyter.widget-view+json": {
       "model_id": "6c29dbf4d39342b4b7346d5f1106fe72",
       "version_major": 2,
       "version_minor": 0
      },
      "text/plain": [
       "Computing transition probabilities:   0%|          | 0/5881 [00:00<?, ?it/s]"
      ]
     },
     "metadata": {},
     "output_type": "display_data"
    },
    {
     "name": "stderr",
     "output_type": "stream",
     "text": [
      "Generating walks (CPU: 1): 100%|██████████| 25/25 [00:32<00:00,  1.29s/it]\n",
      "Generating walks (CPU: 2): 100%|██████████| 25/25 [00:32<00:00,  1.31s/it]\n",
      "Generating walks (CPU: 3): 100%|██████████| 25/25 [00:32<00:00,  1.31s/it]\n",
      "Generating walks (CPU: 4): 100%|██████████| 25/25 [00:32<00:00,  1.31s/it]\n"
     ]
    },
    {
     "data": {
      "application/vnd.jupyter.widget-view+json": {
       "model_id": "b815b70e705945a892ae16a156228403",
       "version_major": 2,
       "version_minor": 0
      },
      "text/plain": [
       "Computing transition probabilities:   0%|          | 0/5881 [00:00<?, ?it/s]"
      ]
     },
     "metadata": {},
     "output_type": "display_data"
    },
    {
     "name": "stderr",
     "output_type": "stream",
     "text": [
      "Generating walks (CPU: 1): 100%|██████████| 25/25 [00:31<00:00,  1.26s/it]\n",
      "Generating walks (CPU: 2): 100%|██████████| 25/25 [00:31<00:00,  1.28s/it]\n",
      "Generating walks (CPU: 3): 100%|██████████| 25/25 [00:31<00:00,  1.28s/it]\n",
      "Generating walks (CPU: 4): 100%|██████████| 25/25 [00:34<00:00,  1.38s/it]\n"
     ]
    },
    {
     "data": {
      "application/vnd.jupyter.widget-view+json": {
       "model_id": "6c9d15675b284a9d9b5f8f1704c9ad72",
       "version_major": 2,
       "version_minor": 0
      },
      "text/plain": [
       "Computing transition probabilities:   0%|          | 0/5881 [00:00<?, ?it/s]"
      ]
     },
     "metadata": {},
     "output_type": "display_data"
    },
    {
     "name": "stderr",
     "output_type": "stream",
     "text": [
      "Generating walks (CPU: 1): 100%|██████████| 25/25 [00:36<00:00,  1.47s/it]\n",
      "Generating walks (CPU: 2): 100%|██████████| 25/25 [00:37<00:00,  1.48s/it]\n",
      "Generating walks (CPU: 3): 100%|██████████| 25/25 [00:37<00:00,  1.49s/it]\n",
      "Generating walks (CPU: 4): 100%|██████████| 25/25 [00:37<00:00,  1.49s/it]\n"
     ]
    },
    {
     "data": {
      "application/vnd.jupyter.widget-view+json": {
       "model_id": "142d14b2a9134f29a35ed0e5c846c12d",
       "version_major": 2,
       "version_minor": 0
      },
      "text/plain": [
       "Computing transition probabilities:   0%|          | 0/5881 [00:00<?, ?it/s]"
      ]
     },
     "metadata": {},
     "output_type": "display_data"
    },
    {
     "name": "stderr",
     "output_type": "stream",
     "text": [
      "Generating walks (CPU: 1): 100%|██████████| 25/25 [00:31<00:00,  1.27s/it]\n",
      "Generating walks (CPU: 2): 100%|██████████| 25/25 [00:31<00:00,  1.27s/it]\n",
      "Generating walks (CPU: 3): 100%|██████████| 25/25 [00:31<00:00,  1.28s/it]\n",
      "Generating walks (CPU: 4): 100%|██████████| 25/25 [00:32<00:00,  1.28s/it]\n"
     ]
    },
    {
     "data": {
      "application/vnd.jupyter.widget-view+json": {
       "model_id": "05102c6a62f543f39e2a3d1061f8da48",
       "version_major": 2,
       "version_minor": 0
      },
      "text/plain": [
       "Computing transition probabilities:   0%|          | 0/5881 [00:00<?, ?it/s]"
      ]
     },
     "metadata": {},
     "output_type": "display_data"
    },
    {
     "name": "stderr",
     "output_type": "stream",
     "text": [
      "Generating walks (CPU: 1): 100%|██████████| 25/25 [00:52<00:00,  2.10s/it]\n",
      "Generating walks (CPU: 2): 100%|██████████| 25/25 [00:52<00:00,  2.12s/it]\n",
      "Generating walks (CPU: 3): 100%|██████████| 25/25 [00:52<00:00,  2.11s/it]\n",
      "Generating walks (CPU: 4): 100%|██████████| 25/25 [00:53<00:00,  2.13s/it]\n"
     ]
    },
    {
     "data": {
      "application/vnd.jupyter.widget-view+json": {
       "model_id": "f5e7341aafe341ca830f930efd16dde8",
       "version_major": 2,
       "version_minor": 0
      },
      "text/plain": [
       "Computing transition probabilities:   0%|          | 0/5881 [00:00<?, ?it/s]"
      ]
     },
     "metadata": {},
     "output_type": "display_data"
    },
    {
     "name": "stderr",
     "output_type": "stream",
     "text": [
      "Generating walks (CPU: 1): 100%|██████████| 25/25 [00:55<00:00,  2.23s/it]\n",
      "Generating walks (CPU: 2): 100%|██████████| 25/25 [00:56<00:00,  2.26s/it]\n",
      "Generating walks (CPU: 3): 100%|██████████| 25/25 [00:56<00:00,  2.27s/it]\n",
      "Generating walks (CPU: 4): 100%|██████████| 25/25 [00:56<00:00,  2.26s/it]\n"
     ]
    },
    {
     "data": {
      "application/vnd.jupyter.widget-view+json": {
       "model_id": "0d207f01dc2540b5a9fbaf80094cb19e",
       "version_major": 2,
       "version_minor": 0
      },
      "text/plain": [
       "Computing transition probabilities:   0%|          | 0/5881 [00:00<?, ?it/s]"
      ]
     },
     "metadata": {},
     "output_type": "display_data"
    },
    {
     "name": "stderr",
     "output_type": "stream",
     "text": [
      "Generating walks (CPU: 1): 100%|██████████| 25/25 [00:56<00:00,  2.27s/it]\n",
      "Generating walks (CPU: 2): 100%|██████████| 25/25 [00:57<00:00,  2.30s/it]\n",
      "Generating walks (CPU: 3): 100%|██████████| 25/25 [00:57<00:00,  2.31s/it]\n",
      "Generating walks (CPU: 4): 100%|██████████| 25/25 [00:57<00:00,  2.29s/it]\n"
     ]
    },
    {
     "data": {
      "application/vnd.jupyter.widget-view+json": {
       "model_id": "1c90f3bdbc0f47a49519b0a6e7f408bf",
       "version_major": 2,
       "version_minor": 0
      },
      "text/plain": [
       "Computing transition probabilities:   0%|          | 0/5881 [00:00<?, ?it/s]"
      ]
     },
     "metadata": {},
     "output_type": "display_data"
    },
    {
     "name": "stderr",
     "output_type": "stream",
     "text": [
      "Generating walks (CPU: 1): 100%|██████████| 25/25 [01:00<00:00,  2.41s/it]\n",
      "Generating walks (CPU: 2): 100%|██████████| 25/25 [01:00<00:00,  2.44s/it]\n",
      "Generating walks (CPU: 3): 100%|██████████| 25/25 [01:01<00:00,  2.46s/it]\n",
      "Generating walks (CPU: 4): 100%|██████████| 25/25 [01:01<00:00,  2.46s/it]\n"
     ]
    },
    {
     "data": {
      "application/vnd.jupyter.widget-view+json": {
       "model_id": "8390fcb1c43b40b3baee97b1f54452d4",
       "version_major": 2,
       "version_minor": 0
      },
      "text/plain": [
       "Computing transition probabilities:   0%|          | 0/5881 [00:00<?, ?it/s]"
      ]
     },
     "metadata": {},
     "output_type": "display_data"
    },
    {
     "name": "stderr",
     "output_type": "stream",
     "text": [
      "Generating walks (CPU: 1): 100%|██████████| 25/25 [01:02<00:00,  2.50s/it]\n",
      "Generating walks (CPU: 2): 100%|██████████| 25/25 [01:03<00:00,  2.52s/it]\n",
      "Generating walks (CPU: 3): 100%|██████████| 25/25 [01:02<00:00,  2.52s/it]\n",
      "Generating walks (CPU: 4): 100%|██████████| 25/25 [01:02<00:00,  2.51s/it]\n"
     ]
    },
    {
     "data": {
      "application/vnd.jupyter.widget-view+json": {
       "model_id": "1821fd3ed5e6446fadd91b54f685be63",
       "version_major": 2,
       "version_minor": 0
      },
      "text/plain": [
       "Computing transition probabilities:   0%|          | 0/5881 [00:00<?, ?it/s]"
      ]
     },
     "metadata": {},
     "output_type": "display_data"
    },
    {
     "name": "stderr",
     "output_type": "stream",
     "text": [
      "Generating walks (CPU: 1): 100%|██████████| 25/25 [00:33<00:00,  1.34s/it]\n",
      "Generating walks (CPU: 2): 100%|██████████| 25/25 [00:33<00:00,  1.35s/it]\n",
      "Generating walks (CPU: 3): 100%|██████████| 25/25 [00:33<00:00,  1.35s/it]\n",
      "Generating walks (CPU: 4): 100%|██████████| 25/25 [00:34<00:00,  1.36s/it]\n"
     ]
    },
    {
     "data": {
      "application/vnd.jupyter.widget-view+json": {
       "model_id": "86a73163bcc6491db56d64fc13b1e587",
       "version_major": 2,
       "version_minor": 0
      },
      "text/plain": [
       "Computing transition probabilities:   0%|          | 0/5881 [00:00<?, ?it/s]"
      ]
     },
     "metadata": {},
     "output_type": "display_data"
    },
    {
     "name": "stderr",
     "output_type": "stream",
     "text": [
      "Generating walks (CPU: 1): 100%|██████████| 25/25 [00:33<00:00,  1.33s/it]\n",
      "Generating walks (CPU: 2): 100%|██████████| 25/25 [00:33<00:00,  1.34s/it]\n",
      "Generating walks (CPU: 3): 100%|██████████| 25/25 [00:33<00:00,  1.34s/it]\n",
      "Generating walks (CPU: 4): 100%|██████████| 25/25 [00:33<00:00,  1.34s/it]\n"
     ]
    },
    {
     "data": {
      "application/vnd.jupyter.widget-view+json": {
       "model_id": "c10cfbbac27b456c9b308bdaece37e2e",
       "version_major": 2,
       "version_minor": 0
      },
      "text/plain": [
       "Computing transition probabilities:   0%|          | 0/5881 [00:00<?, ?it/s]"
      ]
     },
     "metadata": {},
     "output_type": "display_data"
    },
    {
     "name": "stderr",
     "output_type": "stream",
     "text": [
      "Generating walks (CPU: 1): 100%|██████████| 25/25 [01:33<00:00,  3.74s/it]\n",
      "Generating walks (CPU: 2): 100%|██████████| 25/25 [01:33<00:00,  3.73s/it]\n",
      "Generating walks (CPU: 3): 100%|██████████| 25/25 [01:32<00:00,  3.71s/it]\n",
      "Generating walks (CPU: 4): 100%|██████████| 25/25 [01:32<00:00,  3.69s/it]\n"
     ]
    },
    {
     "data": {
      "application/vnd.jupyter.widget-view+json": {
       "model_id": "a33a8740286740968b7cc238d10bd380",
       "version_major": 2,
       "version_minor": 0
      },
      "text/plain": [
       "Computing transition probabilities:   0%|          | 0/5881 [00:00<?, ?it/s]"
      ]
     },
     "metadata": {},
     "output_type": "display_data"
    },
    {
     "name": "stderr",
     "output_type": "stream",
     "text": [
      "Generating walks (CPU: 1): 100%|██████████| 25/25 [01:00<00:00,  2.44s/it]\n",
      "Generating walks (CPU: 2): 100%|██████████| 25/25 [01:01<00:00,  2.45s/it]\n",
      "Generating walks (CPU: 4): 100%|██████████| 25/25 [01:01<00:00,  2.44s/it]\n",
      "Generating walks (CPU: 3): 100%|██████████| 25/25 [01:07<00:00,  2.70s/it]\n"
     ]
    },
    {
     "data": {
      "application/vnd.jupyter.widget-view+json": {
       "model_id": "4e967d7a96aa43659d7a3234271d9a93",
       "version_major": 2,
       "version_minor": 0
      },
      "text/plain": [
       "Computing transition probabilities:   0%|          | 0/5881 [00:00<?, ?it/s]"
      ]
     },
     "metadata": {},
     "output_type": "display_data"
    },
    {
     "name": "stderr",
     "output_type": "stream",
     "text": [
      "Generating walks (CPU: 1): 100%|██████████| 25/25 [00:34<00:00,  1.37s/it]\n",
      "Generating walks (CPU: 2): 100%|██████████| 25/25 [00:34<00:00,  1.38s/it]\n",
      "Generating walks (CPU: 3): 100%|██████████| 25/25 [00:34<00:00,  1.39s/it]\n",
      "Generating walks (CPU: 4): 100%|██████████| 25/25 [00:34<00:00,  1.38s/it]\n"
     ]
    },
    {
     "data": {
      "application/vnd.jupyter.widget-view+json": {
       "model_id": "8596a4c3fc484a3ab2ad2c0c5f28a0fb",
       "version_major": 2,
       "version_minor": 0
      },
      "text/plain": [
       "Computing transition probabilities:   0%|          | 0/5881 [00:00<?, ?it/s]"
      ]
     },
     "metadata": {},
     "output_type": "display_data"
    },
    {
     "name": "stderr",
     "output_type": "stream",
     "text": [
      "Generating walks (CPU: 1): 100%|██████████| 25/25 [00:52<00:00,  2.10s/it]\n",
      "Generating walks (CPU: 2): 100%|██████████| 25/25 [00:52<00:00,  2.11s/it]\n",
      "Generating walks (CPU: 3): 100%|██████████| 25/25 [00:52<00:00,  2.11s/it]\n",
      "Generating walks (CPU: 4): 100%|██████████| 25/25 [00:53<00:00,  2.12s/it]\n"
     ]
    },
    {
     "data": {
      "application/vnd.jupyter.widget-view+json": {
       "model_id": "bc38b9959f894604b6dd5e279006ca1b",
       "version_major": 2,
       "version_minor": 0
      },
      "text/plain": [
       "Computing transition probabilities:   0%|          | 0/5881 [00:00<?, ?it/s]"
      ]
     },
     "metadata": {},
     "output_type": "display_data"
    },
    {
     "name": "stderr",
     "output_type": "stream",
     "text": [
      "Generating walks (CPU: 1): 100%|██████████| 25/25 [00:53<00:00,  2.16s/it]\n",
      "Generating walks (CPU: 2): 100%|██████████| 25/25 [00:54<00:00,  2.16s/it]\n",
      "Generating walks (CPU: 3): 100%|██████████| 25/25 [00:54<00:00,  2.17s/it]\n",
      "Generating walks (CPU: 4): 100%|██████████| 25/25 [00:54<00:00,  2.17s/it]\n"
     ]
    },
    {
     "data": {
      "application/vnd.jupyter.widget-view+json": {
       "model_id": "972181a3a6a24d02aaa3645b00bdc19d",
       "version_major": 2,
       "version_minor": 0
      },
      "text/plain": [
       "Computing transition probabilities:   0%|          | 0/5881 [00:00<?, ?it/s]"
      ]
     },
     "metadata": {},
     "output_type": "display_data"
    },
    {
     "name": "stderr",
     "output_type": "stream",
     "text": [
      "Generating walks (CPU: 1): 100%|██████████| 25/25 [00:56<00:00,  2.26s/it]\n",
      "Generating walks (CPU: 2): 100%|██████████| 25/25 [00:56<00:00,  2.28s/it]\n",
      "Generating walks (CPU: 3): 100%|██████████| 25/25 [00:56<00:00,  2.27s/it]\n",
      "Generating walks (CPU: 4): 100%|██████████| 25/25 [00:56<00:00,  2.27s/it]\n"
     ]
    },
    {
     "data": {
      "application/vnd.jupyter.widget-view+json": {
       "model_id": "ea44e28c05084afd8d842b193e869bd6",
       "version_major": 2,
       "version_minor": 0
      },
      "text/plain": [
       "Computing transition probabilities:   0%|          | 0/5881 [00:00<?, ?it/s]"
      ]
     },
     "metadata": {},
     "output_type": "display_data"
    },
    {
     "name": "stderr",
     "output_type": "stream",
     "text": [
      "Generating walks (CPU: 1): 100%|██████████| 25/25 [00:54<00:00,  2.19s/it]\n",
      "Generating walks (CPU: 2): 100%|██████████| 25/25 [00:54<00:00,  2.20s/it]\n",
      "Generating walks (CPU: 3): 100%|██████████| 25/25 [00:55<00:00,  2.21s/it]\n",
      "Generating walks (CPU: 4): 100%|██████████| 25/25 [00:55<00:00,  2.20s/it]\n"
     ]
    },
    {
     "data": {
      "application/vnd.jupyter.widget-view+json": {
       "model_id": "9badb17c17a4434aac1234f5c982b5b8",
       "version_major": 2,
       "version_minor": 0
      },
      "text/plain": [
       "Computing transition probabilities:   0%|          | 0/5881 [00:00<?, ?it/s]"
      ]
     },
     "metadata": {},
     "output_type": "display_data"
    },
    {
     "name": "stderr",
     "output_type": "stream",
     "text": [
      "Generating walks (CPU: 1): 100%|██████████| 25/25 [00:55<00:00,  2.23s/it]\n",
      "Generating walks (CPU: 2): 100%|██████████| 25/25 [00:56<00:00,  2.24s/it]\n",
      "Generating walks (CPU: 3): 100%|██████████| 25/25 [00:56<00:00,  2.25s/it]\n",
      "Generating walks (CPU: 4): 100%|██████████| 25/25 [00:56<00:00,  2.25s/it]\n"
     ]
    },
    {
     "data": {
      "application/vnd.jupyter.widget-view+json": {
       "model_id": "1daac125a6df451eb5b8ce35a0692a3a",
       "version_major": 2,
       "version_minor": 0
      },
      "text/plain": [
       "Computing transition probabilities:   0%|          | 0/5881 [00:00<?, ?it/s]"
      ]
     },
     "metadata": {},
     "output_type": "display_data"
    },
    {
     "name": "stderr",
     "output_type": "stream",
     "text": [
      "Generating walks (CPU: 1): 100%|██████████| 25/25 [00:31<00:00,  1.27s/it]\n",
      "Generating walks (CPU: 2): 100%|██████████| 25/25 [00:31<00:00,  1.28s/it]\n",
      "Generating walks (CPU: 3): 100%|██████████| 25/25 [00:32<00:00,  1.28s/it]\n",
      "Generating walks (CPU: 4): 100%|██████████| 25/25 [00:32<00:00,  1.28s/it]\n"
     ]
    },
    {
     "data": {
      "application/vnd.jupyter.widget-view+json": {
       "model_id": "9fb6d1891aba496f9a304a5d31c3e476",
       "version_major": 2,
       "version_minor": 0
      },
      "text/plain": [
       "Computing transition probabilities:   0%|          | 0/5881 [00:00<?, ?it/s]"
      ]
     },
     "metadata": {},
     "output_type": "display_data"
    },
    {
     "name": "stderr",
     "output_type": "stream",
     "text": [
      "Generating walks (CPU: 1): 100%|██████████| 25/25 [00:55<00:00,  2.21s/it]\n",
      "Generating walks (CPU: 2): 100%|██████████| 25/25 [00:56<00:00,  2.24s/it]\n",
      "Generating walks (CPU: 3): 100%|██████████| 25/25 [00:56<00:00,  2.25s/it]\n",
      "Generating walks (CPU: 4): 100%|██████████| 25/25 [00:56<00:00,  2.26s/it]\n"
     ]
    },
    {
     "data": {
      "application/vnd.jupyter.widget-view+json": {
       "model_id": "7b43a97e58254e959149d1e701a71717",
       "version_major": 2,
       "version_minor": 0
      },
      "text/plain": [
       "Computing transition probabilities:   0%|          | 0/5881 [00:00<?, ?it/s]"
      ]
     },
     "metadata": {},
     "output_type": "display_data"
    },
    {
     "name": "stderr",
     "output_type": "stream",
     "text": [
      "Generating walks (CPU: 1): 100%|██████████| 25/25 [01:02<00:00,  2.51s/it]\n",
      "Generating walks (CPU: 2): 100%|██████████| 25/25 [01:02<00:00,  2.52s/it]\n",
      "Generating walks (CPU: 3): 100%|██████████| 25/25 [01:02<00:00,  2.52s/it]\n",
      "Generating walks (CPU: 4): 100%|██████████| 25/25 [01:02<00:00,  2.49s/it]\n"
     ]
    },
    {
     "data": {
      "application/vnd.jupyter.widget-view+json": {
       "model_id": "b7711d63162f411c9a2cba815b7c8833",
       "version_major": 2,
       "version_minor": 0
      },
      "text/plain": [
       "Computing transition probabilities:   0%|          | 0/5881 [00:00<?, ?it/s]"
      ]
     },
     "metadata": {},
     "output_type": "display_data"
    },
    {
     "name": "stderr",
     "output_type": "stream",
     "text": [
      "Generating walks (CPU: 1): 100%|██████████| 25/25 [00:33<00:00,  1.34s/it]\n",
      "Generating walks (CPU: 2): 100%|██████████| 25/25 [00:33<00:00,  1.35s/it]\n",
      "Generating walks (CPU: 3): 100%|██████████| 25/25 [00:33<00:00,  1.35s/it]\n",
      "Generating walks (CPU: 4): 100%|██████████| 25/25 [00:33<00:00,  1.35s/it]\n"
     ]
    },
    {
     "data": {
      "application/vnd.jupyter.widget-view+json": {
       "model_id": "0e4e7392673d4f3dbfe96977417574e2",
       "version_major": 2,
       "version_minor": 0
      },
      "text/plain": [
       "Computing transition probabilities:   0%|          | 0/5881 [00:00<?, ?it/s]"
      ]
     },
     "metadata": {},
     "output_type": "display_data"
    },
    {
     "name": "stderr",
     "output_type": "stream",
     "text": [
      "Generating walks (CPU: 1): 100%|██████████| 25/25 [00:33<00:00,  1.34s/it]\n",
      "Generating walks (CPU: 2): 100%|██████████| 25/25 [00:33<00:00,  1.35s/it]\n",
      "Generating walks (CPU: 3): 100%|██████████| 25/25 [00:33<00:00,  1.35s/it]\n",
      "Generating walks (CPU: 4): 100%|██████████| 25/25 [00:33<00:00,  1.34s/it]\n"
     ]
    },
    {
     "data": {
      "application/vnd.jupyter.widget-view+json": {
       "model_id": "5518c500637a4c85a5ba40e6434c5182",
       "version_major": 2,
       "version_minor": 0
      },
      "text/plain": [
       "Computing transition probabilities:   0%|          | 0/5881 [00:00<?, ?it/s]"
      ]
     },
     "metadata": {},
     "output_type": "display_data"
    },
    {
     "name": "stderr",
     "output_type": "stream",
     "text": [
      "Generating walks (CPU: 1): 100%|██████████| 25/25 [00:33<00:00,  1.32s/it]\n",
      "Generating walks (CPU: 2): 100%|██████████| 25/25 [00:33<00:00,  1.33s/it]\n",
      "Generating walks (CPU: 3): 100%|██████████| 25/25 [00:33<00:00,  1.33s/it]\n",
      "Generating walks (CPU: 4): 100%|██████████| 25/25 [00:33<00:00,  1.33s/it]\n"
     ]
    },
    {
     "data": {
      "application/vnd.jupyter.widget-view+json": {
       "model_id": "3c762024faa3447b97de78ce1aadc623",
       "version_major": 2,
       "version_minor": 0
      },
      "text/plain": [
       "Computing transition probabilities:   0%|          | 0/5881 [00:00<?, ?it/s]"
      ]
     },
     "metadata": {},
     "output_type": "display_data"
    },
    {
     "name": "stderr",
     "output_type": "stream",
     "text": [
      "Generating walks (CPU: 1): 100%|██████████| 25/25 [00:33<00:00,  1.35s/it]\n",
      "Generating walks (CPU: 2): 100%|██████████| 25/25 [00:34<00:00,  1.36s/it]\n",
      "Generating walks (CPU: 3): 100%|██████████| 25/25 [00:33<00:00,  1.36s/it]\n",
      "Generating walks (CPU: 4): 100%|██████████| 25/25 [00:34<00:00,  1.36s/it]\n"
     ]
    },
    {
     "data": {
      "application/vnd.jupyter.widget-view+json": {
       "model_id": "2768bd42d0274256a78464417ae098d6",
       "version_major": 2,
       "version_minor": 0
      },
      "text/plain": [
       "Computing transition probabilities:   0%|          | 0/5881 [00:00<?, ?it/s]"
      ]
     },
     "metadata": {},
     "output_type": "display_data"
    },
    {
     "name": "stderr",
     "output_type": "stream",
     "text": [
      "Generating walks (CPU: 1): 100%|██████████| 25/25 [00:36<00:00,  1.47s/it]\n",
      "Generating walks (CPU: 2): 100%|██████████| 25/25 [00:36<00:00,  1.47s/it]\n",
      "Generating walks (CPU: 3): 100%|██████████| 25/25 [00:36<00:00,  1.47s/it]\n",
      "Generating walks (CPU: 4): 100%|██████████| 25/25 [00:37<00:00,  1.48s/it]\n"
     ]
    },
    {
     "data": {
      "application/vnd.jupyter.widget-view+json": {
       "model_id": "fee17ef9c8234293a31d09a8118ca856",
       "version_major": 2,
       "version_minor": 0
      },
      "text/plain": [
       "Computing transition probabilities:   0%|          | 0/5881 [00:00<?, ?it/s]"
      ]
     },
     "metadata": {},
     "output_type": "display_data"
    },
    {
     "name": "stderr",
     "output_type": "stream",
     "text": [
      "Generating walks (CPU: 1): 100%|██████████| 25/25 [00:34<00:00,  1.40s/it]\n",
      "Generating walks (CPU: 2): 100%|██████████| 25/25 [00:34<00:00,  1.40s/it]\n",
      "Generating walks (CPU: 3): 100%|██████████| 25/25 [00:35<00:00,  1.40s/it]\n",
      "Generating walks (CPU: 4): 100%|██████████| 25/25 [00:38<00:00,  1.53s/it]\n"
     ]
    },
    {
     "data": {
      "application/vnd.jupyter.widget-view+json": {
       "model_id": "d104cb7952e04d5c9eafa0ba61483829",
       "version_major": 2,
       "version_minor": 0
      },
      "text/plain": [
       "Computing transition probabilities:   0%|          | 0/5881 [00:00<?, ?it/s]"
      ]
     },
     "metadata": {},
     "output_type": "display_data"
    },
    {
     "name": "stderr",
     "output_type": "stream",
     "text": [
      "Generating walks (CPU: 1): 100%|██████████| 25/25 [00:35<00:00,  1.41s/it]\n",
      "Generating walks (CPU: 2): 100%|██████████| 25/25 [00:35<00:00,  1.42s/it]\n",
      "Generating walks (CPU: 3): 100%|██████████| 25/25 [00:35<00:00,  1.42s/it]\n",
      "Generating walks (CPU: 4): 100%|██████████| 25/25 [00:35<00:00,  1.42s/it]\n"
     ]
    },
    {
     "data": {
      "application/vnd.jupyter.widget-view+json": {
       "model_id": "a6d42a3e92d04bb2b02453fe7053d848",
       "version_major": 2,
       "version_minor": 0
      },
      "text/plain": [
       "Computing transition probabilities:   0%|          | 0/5881 [00:00<?, ?it/s]"
      ]
     },
     "metadata": {},
     "output_type": "display_data"
    },
    {
     "name": "stderr",
     "output_type": "stream",
     "text": [
      "Generating walks (CPU: 1): 100%|██████████| 25/25 [00:31<00:00,  1.24s/it]\n",
      "Generating walks (CPU: 2): 100%|██████████| 25/25 [00:31<00:00,  1.25s/it]\n",
      "Generating walks (CPU: 3): 100%|██████████| 25/25 [00:31<00:00,  1.25s/it]\n",
      "Generating walks (CPU: 4): 100%|██████████| 25/25 [00:31<00:00,  1.25s/it]\n"
     ]
    },
    {
     "data": {
      "application/vnd.jupyter.widget-view+json": {
       "model_id": "eeb3ce6db63346a98dc87213345a6d4a",
       "version_major": 2,
       "version_minor": 0
      },
      "text/plain": [
       "Computing transition probabilities:   0%|          | 0/5881 [00:00<?, ?it/s]"
      ]
     },
     "metadata": {},
     "output_type": "display_data"
    },
    {
     "name": "stderr",
     "output_type": "stream",
     "text": [
      "Generating walks (CPU: 1): 100%|██████████| 25/25 [00:32<00:00,  1.29s/it]\n",
      "Generating walks (CPU: 2): 100%|██████████| 25/25 [00:32<00:00,  1.30s/it]\n",
      "Generating walks (CPU: 3): 100%|██████████| 25/25 [00:32<00:00,  1.30s/it]\n",
      "Generating walks (CPU: 4): 100%|██████████| 25/25 [00:32<00:00,  1.32s/it]\n"
     ]
    },
    {
     "data": {
      "application/vnd.jupyter.widget-view+json": {
       "model_id": "f85d8ab5948e46dca75e06f65d4a1caa",
       "version_major": 2,
       "version_minor": 0
      },
      "text/plain": [
       "Computing transition probabilities:   0%|          | 0/5881 [00:00<?, ?it/s]"
      ]
     },
     "metadata": {},
     "output_type": "display_data"
    },
    {
     "name": "stderr",
     "output_type": "stream",
     "text": [
      "Generating walks (CPU: 1): 100%|██████████| 25/25 [00:31<00:00,  1.26s/it]\n",
      "Generating walks (CPU: 2): 100%|██████████| 25/25 [00:31<00:00,  1.27s/it]\n",
      "Generating walks (CPU: 3): 100%|██████████| 25/25 [00:31<00:00,  1.27s/it]\n",
      "Generating walks (CPU: 4): 100%|██████████| 25/25 [00:31<00:00,  1.27s/it]\n"
     ]
    },
    {
     "data": {
      "application/vnd.jupyter.widget-view+json": {
       "model_id": "6fd6d96023e2414597c96c852fce9da0",
       "version_major": 2,
       "version_minor": 0
      },
      "text/plain": [
       "Computing transition probabilities:   0%|          | 0/5881 [00:00<?, ?it/s]"
      ]
     },
     "metadata": {},
     "output_type": "display_data"
    },
    {
     "name": "stderr",
     "output_type": "stream",
     "text": [
      "Generating walks (CPU: 1): 100%|██████████| 25/25 [00:31<00:00,  1.26s/it]\n",
      "Generating walks (CPU: 2): 100%|██████████| 25/25 [00:31<00:00,  1.27s/it]\n",
      "Generating walks (CPU: 3): 100%|██████████| 25/25 [00:32<00:00,  1.28s/it]\n",
      "Generating walks (CPU: 4): 100%|██████████| 25/25 [00:32<00:00,  1.28s/it]\n"
     ]
    },
    {
     "data": {
      "application/vnd.jupyter.widget-view+json": {
       "model_id": "2594c3b5bbce427dad7fa531923c31f3",
       "version_major": 2,
       "version_minor": 0
      },
      "text/plain": [
       "Computing transition probabilities:   0%|          | 0/5881 [00:00<?, ?it/s]"
      ]
     },
     "metadata": {},
     "output_type": "display_data"
    },
    {
     "name": "stderr",
     "output_type": "stream",
     "text": [
      "Generating walks (CPU: 1): 100%|██████████| 25/25 [00:32<00:00,  1.28s/it]\n",
      "Generating walks (CPU: 2): 100%|██████████| 25/25 [00:32<00:00,  1.29s/it]\n",
      "Generating walks (CPU: 3): 100%|██████████| 25/25 [00:32<00:00,  1.30s/it]\n",
      "Generating walks (CPU: 4): 100%|██████████| 25/25 [00:32<00:00,  1.30s/it]\n"
     ]
    },
    {
     "data": {
      "application/vnd.jupyter.widget-view+json": {
       "model_id": "e707a2375b9b4f76b753d5ea053e4ea6",
       "version_major": 2,
       "version_minor": 0
      },
      "text/plain": [
       "Computing transition probabilities:   0%|          | 0/5881 [00:00<?, ?it/s]"
      ]
     },
     "metadata": {},
     "output_type": "display_data"
    },
    {
     "name": "stderr",
     "output_type": "stream",
     "text": [
      "Generating walks (CPU: 1): 100%|██████████| 25/25 [00:32<00:00,  1.30s/it]\n",
      "Generating walks (CPU: 2): 100%|██████████| 25/25 [00:32<00:00,  1.31s/it]\n",
      "Generating walks (CPU: 3): 100%|██████████| 25/25 [00:32<00:00,  1.31s/it]\n",
      "Generating walks (CPU: 4): 100%|██████████| 25/25 [00:32<00:00,  1.32s/it]\n"
     ]
    },
    {
     "data": {
      "application/vnd.jupyter.widget-view+json": {
       "model_id": "325d363c4f1043578881a9dba2a609d8",
       "version_major": 2,
       "version_minor": 0
      },
      "text/plain": [
       "Computing transition probabilities:   0%|          | 0/5881 [00:00<?, ?it/s]"
      ]
     },
     "metadata": {},
     "output_type": "display_data"
    },
    {
     "name": "stderr",
     "output_type": "stream",
     "text": [
      "Generating walks (CPU: 1): 100%|██████████| 25/25 [00:33<00:00,  1.32s/it]\n",
      "Generating walks (CPU: 2): 100%|██████████| 25/25 [00:33<00:00,  1.32s/it]\n",
      "Generating walks (CPU: 3): 100%|██████████| 25/25 [00:33<00:00,  1.33s/it]\n",
      "Generating walks (CPU: 4): 100%|██████████| 25/25 [00:33<00:00,  1.33s/it]\n"
     ]
    },
    {
     "data": {
      "application/vnd.jupyter.widget-view+json": {
       "model_id": "b4fd35ccaedd4f408e8cce2000a8f3f0",
       "version_major": 2,
       "version_minor": 0
      },
      "text/plain": [
       "Computing transition probabilities:   0%|          | 0/5881 [00:00<?, ?it/s]"
      ]
     },
     "metadata": {},
     "output_type": "display_data"
    },
    {
     "name": "stderr",
     "output_type": "stream",
     "text": [
      "Generating walks (CPU: 1): 100%|██████████| 25/25 [00:32<00:00,  1.32s/it]\n",
      "Generating walks (CPU: 2): 100%|██████████| 25/25 [00:33<00:00,  1.33s/it]\n",
      "Generating walks (CPU: 3): 100%|██████████| 25/25 [00:33<00:00,  1.32s/it]\n",
      "Generating walks (CPU: 4): 100%|██████████| 25/25 [00:33<00:00,  1.32s/it]\n"
     ]
    },
    {
     "data": {
      "application/vnd.jupyter.widget-view+json": {
       "model_id": "870d49d002e044b7a046fd3789152987",
       "version_major": 2,
       "version_minor": 0
      },
      "text/plain": [
       "Computing transition probabilities:   0%|          | 0/5881 [00:00<?, ?it/s]"
      ]
     },
     "metadata": {},
     "output_type": "display_data"
    },
    {
     "name": "stderr",
     "output_type": "stream",
     "text": [
      "Generating walks (CPU: 1): 100%|██████████| 25/25 [00:32<00:00,  1.29s/it]\n",
      "Generating walks (CPU: 2): 100%|██████████| 25/25 [00:32<00:00,  1.29s/it]\n",
      "Generating walks (CPU: 4): 100%|██████████| 25/25 [00:32<00:00,  1.30s/it]\n",
      "Generating walks (CPU: 3): 100%|██████████| 25/25 [00:35<00:00,  1.41s/it]\n"
     ]
    },
    {
     "data": {
      "application/vnd.jupyter.widget-view+json": {
       "model_id": "7514ecd6c8964717be9488c810a66ca4",
       "version_major": 2,
       "version_minor": 0
      },
      "text/plain": [
       "Computing transition probabilities:   0%|          | 0/5881 [00:00<?, ?it/s]"
      ]
     },
     "metadata": {},
     "output_type": "display_data"
    },
    {
     "name": "stderr",
     "output_type": "stream",
     "text": [
      "Generating walks (CPU: 1): 100%|██████████| 25/25 [00:33<00:00,  1.36s/it]\n",
      "Generating walks (CPU: 2): 100%|██████████| 25/25 [00:34<00:00,  1.37s/it]\n",
      "Generating walks (CPU: 3): 100%|██████████| 25/25 [00:34<00:00,  1.37s/it]\n",
      "Generating walks (CPU: 4): 100%|██████████| 25/25 [00:34<00:00,  1.37s/it]\n"
     ]
    },
    {
     "data": {
      "application/vnd.jupyter.widget-view+json": {
       "model_id": "884b81bf62014e6d90535d80aca10c99",
       "version_major": 2,
       "version_minor": 0
      },
      "text/plain": [
       "Computing transition probabilities:   0%|          | 0/5881 [00:00<?, ?it/s]"
      ]
     },
     "metadata": {},
     "output_type": "display_data"
    },
    {
     "name": "stderr",
     "output_type": "stream",
     "text": [
      "Generating walks (CPU: 1): 100%|██████████| 25/25 [00:33<00:00,  1.35s/it]\n",
      "Generating walks (CPU: 2): 100%|██████████| 25/25 [00:33<00:00,  1.36s/it]\n",
      "Generating walks (CPU: 3): 100%|██████████| 25/25 [00:33<00:00,  1.36s/it]\n",
      "Generating walks (CPU: 4): 100%|██████████| 25/25 [00:33<00:00,  1.35s/it]\n"
     ]
    },
    {
     "data": {
      "application/vnd.jupyter.widget-view+json": {
       "model_id": "caa0b3c913f54971be2a1ea6b0e93b62",
       "version_major": 2,
       "version_minor": 0
      },
      "text/plain": [
       "Computing transition probabilities:   0%|          | 0/5881 [00:00<?, ?it/s]"
      ]
     },
     "metadata": {},
     "output_type": "display_data"
    },
    {
     "name": "stderr",
     "output_type": "stream",
     "text": [
      "Generating walks (CPU: 1): 100%|██████████| 25/25 [00:33<00:00,  1.35s/it]\n",
      "Generating walks (CPU: 2): 100%|██████████| 25/25 [00:33<00:00,  1.35s/it]\n",
      "Generating walks (CPU: 3): 100%|██████████| 25/25 [00:33<00:00,  1.35s/it]\n",
      "Generating walks (CPU: 4): 100%|██████████| 25/25 [00:34<00:00,  1.36s/it]\n"
     ]
    },
    {
     "data": {
      "application/vnd.jupyter.widget-view+json": {
       "model_id": "50be58ffe0fe4045aa623f1c139e920e",
       "version_major": 2,
       "version_minor": 0
      },
      "text/plain": [
       "Computing transition probabilities:   0%|          | 0/5881 [00:00<?, ?it/s]"
      ]
     },
     "metadata": {},
     "output_type": "display_data"
    },
    {
     "name": "stderr",
     "output_type": "stream",
     "text": [
      "Generating walks (CPU: 1): 100%|██████████| 25/25 [00:35<00:00,  1.42s/it]\n",
      "Generating walks (CPU: 2): 100%|██████████| 25/25 [00:35<00:00,  1.42s/it]\n",
      "Generating walks (CPU: 3): 100%|██████████| 25/25 [00:35<00:00,  1.43s/it]\n",
      "Generating walks (CPU: 4): 100%|██████████| 25/25 [00:35<00:00,  1.44s/it]\n"
     ]
    },
    {
     "data": {
      "application/vnd.jupyter.widget-view+json": {
       "model_id": "c4e7017927064f51a3ba0440e236a530",
       "version_major": 2,
       "version_minor": 0
      },
      "text/plain": [
       "Computing transition probabilities:   0%|          | 0/5881 [00:00<?, ?it/s]"
      ]
     },
     "metadata": {},
     "output_type": "display_data"
    },
    {
     "name": "stderr",
     "output_type": "stream",
     "text": [
      "Generating walks (CPU: 1): 100%|██████████| 25/25 [00:35<00:00,  1.42s/it]\n",
      "Generating walks (CPU: 2): 100%|██████████| 25/25 [00:35<00:00,  1.43s/it]\n",
      "Generating walks (CPU: 3): 100%|██████████| 25/25 [00:35<00:00,  1.43s/it]\n",
      "Generating walks (CPU: 4): 100%|██████████| 25/25 [00:35<00:00,  1.44s/it]\n"
     ]
    },
    {
     "data": {
      "application/vnd.jupyter.widget-view+json": {
       "model_id": "0ac6c93840834da480d366afdf7da555",
       "version_major": 2,
       "version_minor": 0
      },
      "text/plain": [
       "Computing transition probabilities:   0%|          | 0/5881 [00:00<?, ?it/s]"
      ]
     },
     "metadata": {},
     "output_type": "display_data"
    },
    {
     "name": "stderr",
     "output_type": "stream",
     "text": [
      "Generating walks (CPU: 1): 100%|██████████| 25/25 [00:34<00:00,  1.37s/it]\n",
      "Generating walks (CPU: 2): 100%|██████████| 25/25 [00:34<00:00,  1.38s/it]\n",
      "Generating walks (CPU: 3): 100%|██████████| 25/25 [00:34<00:00,  1.37s/it]\n",
      "Generating walks (CPU: 4): 100%|██████████| 25/25 [00:34<00:00,  1.39s/it]\n"
     ]
    },
    {
     "data": {
      "application/vnd.jupyter.widget-view+json": {
       "model_id": "2ab3b4c4cefb469ca7f96bf3fcfb2821",
       "version_major": 2,
       "version_minor": 0
      },
      "text/plain": [
       "Computing transition probabilities:   0%|          | 0/5881 [00:00<?, ?it/s]"
      ]
     },
     "metadata": {},
     "output_type": "display_data"
    },
    {
     "name": "stderr",
     "output_type": "stream",
     "text": [
      "Generating walks (CPU: 1): 100%|██████████| 25/25 [00:30<00:00,  1.21s/it]\n",
      "Generating walks (CPU: 2): 100%|██████████| 25/25 [00:30<00:00,  1.21s/it]\n",
      "Generating walks (CPU: 3): 100%|██████████| 25/25 [00:30<00:00,  1.22s/it]\n",
      "Generating walks (CPU: 4): 100%|██████████| 25/25 [00:30<00:00,  1.22s/it]\n"
     ]
    },
    {
     "data": {
      "application/vnd.jupyter.widget-view+json": {
       "model_id": "17f9903cd20c48dd9c969b54eb349149",
       "version_major": 2,
       "version_minor": 0
      },
      "text/plain": [
       "Computing transition probabilities:   0%|          | 0/5881 [00:00<?, ?it/s]"
      ]
     },
     "metadata": {},
     "output_type": "display_data"
    },
    {
     "name": "stderr",
     "output_type": "stream",
     "text": [
      "Generating walks (CPU: 1): 100%|██████████| 25/25 [00:29<00:00,  1.18s/it]\n",
      "Generating walks (CPU: 2): 100%|██████████| 25/25 [00:29<00:00,  1.19s/it]\n",
      "Generating walks (CPU: 3): 100%|██████████| 25/25 [00:29<00:00,  1.19s/it]\n",
      "Generating walks (CPU: 4): 100%|██████████| 25/25 [00:29<00:00,  1.19s/it]\n"
     ]
    },
    {
     "data": {
      "application/vnd.jupyter.widget-view+json": {
       "model_id": "e63b0af91c074749b6f8c866e31c611b",
       "version_major": 2,
       "version_minor": 0
      },
      "text/plain": [
       "Computing transition probabilities:   0%|          | 0/5881 [00:00<?, ?it/s]"
      ]
     },
     "metadata": {},
     "output_type": "display_data"
    },
    {
     "name": "stderr",
     "output_type": "stream",
     "text": [
      "Generating walks (CPU: 1): 100%|██████████| 25/25 [00:30<00:00,  1.23s/it]\n",
      "Generating walks (CPU: 2): 100%|██████████| 25/25 [00:31<00:00,  1.24s/it]\n",
      "Generating walks (CPU: 3): 100%|██████████| 25/25 [00:31<00:00,  1.24s/it]\n",
      "Generating walks (CPU: 4): 100%|██████████| 25/25 [00:31<00:00,  1.25s/it]\n"
     ]
    },
    {
     "data": {
      "application/vnd.jupyter.widget-view+json": {
       "model_id": "8fde60cf7948436692ddb8043dfe5c12",
       "version_major": 2,
       "version_minor": 0
      },
      "text/plain": [
       "Computing transition probabilities:   0%|          | 0/5881 [00:00<?, ?it/s]"
      ]
     },
     "metadata": {},
     "output_type": "display_data"
    },
    {
     "name": "stderr",
     "output_type": "stream",
     "text": [
      "Generating walks (CPU: 1): 100%|██████████| 25/25 [00:31<00:00,  1.25s/it]\n",
      "Generating walks (CPU: 2): 100%|██████████| 25/25 [00:31<00:00,  1.25s/it]\n",
      "Generating walks (CPU: 3): 100%|██████████| 25/25 [00:31<00:00,  1.25s/it]\n",
      "Generating walks (CPU: 4): 100%|██████████| 25/25 [00:31<00:00,  1.26s/it]\n"
     ]
    },
    {
     "data": {
      "application/vnd.jupyter.widget-view+json": {
       "model_id": "fe8ea13502c047d98577bd71899f229d",
       "version_major": 2,
       "version_minor": 0
      },
      "text/plain": [
       "Computing transition probabilities:   0%|          | 0/5881 [00:00<?, ?it/s]"
      ]
     },
     "metadata": {},
     "output_type": "display_data"
    },
    {
     "name": "stderr",
     "output_type": "stream",
     "text": [
      "Generating walks (CPU: 1): 100%|██████████| 25/25 [00:30<00:00,  1.23s/it]\n",
      "Generating walks (CPU: 2): 100%|██████████| 25/25 [00:30<00:00,  1.23s/it]\n",
      "Generating walks (CPU: 3): 100%|██████████| 25/25 [00:30<00:00,  1.22s/it]\n",
      "Generating walks (CPU: 4): 100%|██████████| 25/25 [00:30<00:00,  1.24s/it]\n"
     ]
    },
    {
     "data": {
      "application/vnd.jupyter.widget-view+json": {
       "model_id": "83bf7f79ac074fd7b65422cccae28d8c",
       "version_major": 2,
       "version_minor": 0
      },
      "text/plain": [
       "Computing transition probabilities:   0%|          | 0/5881 [00:00<?, ?it/s]"
      ]
     },
     "metadata": {},
     "output_type": "display_data"
    },
    {
     "name": "stderr",
     "output_type": "stream",
     "text": [
      "Generating walks (CPU: 1): 100%|██████████| 25/25 [00:30<00:00,  1.22s/it]\n",
      "Generating walks (CPU: 2): 100%|██████████| 25/25 [00:30<00:00,  1.23s/it]\n",
      "Generating walks (CPU: 4): 100%|██████████| 25/25 [00:30<00:00,  1.24s/it]\n",
      "Generating walks (CPU: 3): 100%|██████████| 25/25 [00:33<00:00,  1.34s/it]\n"
     ]
    },
    {
     "data": {
      "application/vnd.jupyter.widget-view+json": {
       "model_id": "99dd9679f6c5400c8aca1c61917031ca",
       "version_major": 2,
       "version_minor": 0
      },
      "text/plain": [
       "Computing transition probabilities:   0%|          | 0/5881 [00:00<?, ?it/s]"
      ]
     },
     "metadata": {},
     "output_type": "display_data"
    },
    {
     "name": "stderr",
     "output_type": "stream",
     "text": [
      "Generating walks (CPU: 1): 100%|██████████| 25/25 [00:38<00:00,  1.54s/it]\n",
      "Generating walks (CPU: 2): 100%|██████████| 25/25 [00:38<00:00,  1.55s/it]\n",
      "Generating walks (CPU: 3): 100%|██████████| 25/25 [00:38<00:00,  1.54s/it]\n",
      "Generating walks (CPU: 4): 100%|██████████| 25/25 [00:38<00:00,  1.55s/it]\n"
     ]
    },
    {
     "data": {
      "application/vnd.jupyter.widget-view+json": {
       "model_id": "f949d3c3fed84f54a3e2f45de2f9e6e5",
       "version_major": 2,
       "version_minor": 0
      },
      "text/plain": [
       "Computing transition probabilities:   0%|          | 0/5881 [00:00<?, ?it/s]"
      ]
     },
     "metadata": {},
     "output_type": "display_data"
    },
    {
     "name": "stderr",
     "output_type": "stream",
     "text": [
      "Generating walks (CPU: 1): 100%|██████████| 25/25 [00:32<00:00,  1.29s/it]\n",
      "Generating walks (CPU: 2): 100%|██████████| 25/25 [00:32<00:00,  1.30s/it]\n",
      "Generating walks (CPU: 3): 100%|██████████| 25/25 [00:32<00:00,  1.31s/it]\n",
      "Generating walks (CPU: 4): 100%|██████████| 25/25 [00:32<00:00,  1.31s/it]\n"
     ]
    },
    {
     "data": {
      "application/vnd.jupyter.widget-view+json": {
       "model_id": "709d3fcfae504c93ae0445f7af4bb7b0",
       "version_major": 2,
       "version_minor": 0
      },
      "text/plain": [
       "Computing transition probabilities:   0%|          | 0/5881 [00:00<?, ?it/s]"
      ]
     },
     "metadata": {},
     "output_type": "display_data"
    },
    {
     "name": "stderr",
     "output_type": "stream",
     "text": [
      "Generating walks (CPU: 1): 100%|██████████| 25/25 [00:37<00:00,  1.51s/it]\n",
      "Generating walks (CPU: 2): 100%|██████████| 25/25 [00:38<00:00,  1.53s/it]\n",
      "Generating walks (CPU: 3): 100%|██████████| 25/25 [00:38<00:00,  1.54s/it]\n",
      "Generating walks (CPU: 4): 100%|██████████| 25/25 [00:38<00:00,  1.54s/it]\n"
     ]
    },
    {
     "data": {
      "application/vnd.jupyter.widget-view+json": {
       "model_id": "30f0951808fb4ddeb2481a52cec566f9",
       "version_major": 2,
       "version_minor": 0
      },
      "text/plain": [
       "Computing transition probabilities:   0%|          | 0/5881 [00:00<?, ?it/s]"
      ]
     },
     "metadata": {},
     "output_type": "display_data"
    },
    {
     "name": "stderr",
     "output_type": "stream",
     "text": [
      "Generating walks (CPU: 1): 100%|██████████| 25/25 [00:40<00:00,  1.62s/it]\n",
      "Generating walks (CPU: 2): 100%|██████████| 25/25 [00:40<00:00,  1.63s/it]\n",
      "Generating walks (CPU: 3): 100%|██████████| 25/25 [00:40<00:00,  1.63s/it]\n",
      "Generating walks (CPU: 4): 100%|██████████| 25/25 [00:40<00:00,  1.63s/it]\n"
     ]
    },
    {
     "data": {
      "application/vnd.jupyter.widget-view+json": {
       "model_id": "d67bef1aa4ac4e2e8bf61544c8ac36cf",
       "version_major": 2,
       "version_minor": 0
      },
      "text/plain": [
       "Computing transition probabilities:   0%|          | 0/5881 [00:00<?, ?it/s]"
      ]
     },
     "metadata": {},
     "output_type": "display_data"
    },
    {
     "name": "stderr",
     "output_type": "stream",
     "text": [
      "Generating walks (CPU: 1): 100%|██████████| 25/25 [00:35<00:00,  1.44s/it]\n",
      "Generating walks (CPU: 2): 100%|██████████| 25/25 [00:36<00:00,  1.44s/it]\n",
      "Generating walks (CPU: 3): 100%|██████████| 25/25 [00:36<00:00,  1.45s/it]\n",
      "Generating walks (CPU: 4): 100%|██████████| 25/25 [00:36<00:00,  1.45s/it]\n"
     ]
    },
    {
     "data": {
      "application/vnd.jupyter.widget-view+json": {
       "model_id": "09f5ab59b1f74919b6d6b17d75dc8b99",
       "version_major": 2,
       "version_minor": 0
      },
      "text/plain": [
       "Computing transition probabilities:   0%|          | 0/5881 [00:00<?, ?it/s]"
      ]
     },
     "metadata": {},
     "output_type": "display_data"
    },
    {
     "name": "stderr",
     "output_type": "stream",
     "text": [
      "Generating walks (CPU: 1): 100%|██████████| 25/25 [00:35<00:00,  1.44s/it]\n",
      "Generating walks (CPU: 2): 100%|██████████| 25/25 [00:35<00:00,  1.44s/it]\n",
      "Generating walks (CPU: 3): 100%|██████████| 25/25 [00:36<00:00,  1.45s/it]\n",
      "Generating walks (CPU: 4): 100%|██████████| 25/25 [00:36<00:00,  1.45s/it]\n"
     ]
    },
    {
     "data": {
      "application/vnd.jupyter.widget-view+json": {
       "model_id": "b82fcd3324694a26856fc668c49910e2",
       "version_major": 2,
       "version_minor": 0
      },
      "text/plain": [
       "Computing transition probabilities:   0%|          | 0/5881 [00:00<?, ?it/s]"
      ]
     },
     "metadata": {},
     "output_type": "display_data"
    },
    {
     "name": "stderr",
     "output_type": "stream",
     "text": [
      "Generating walks (CPU: 1): 100%|██████████| 25/25 [00:37<00:00,  1.52s/it]\n",
      "Generating walks (CPU: 2): 100%|██████████| 25/25 [00:38<00:00,  1.53s/it]\n",
      "Generating walks (CPU: 3): 100%|██████████| 25/25 [00:38<00:00,  1.54s/it]\n",
      "Generating walks (CPU: 4): 100%|██████████| 25/25 [00:38<00:00,  1.55s/it]\n"
     ]
    },
    {
     "data": {
      "application/vnd.jupyter.widget-view+json": {
       "model_id": "51d924c52cf94414917a118268ea78bf",
       "version_major": 2,
       "version_minor": 0
      },
      "text/plain": [
       "Computing transition probabilities:   0%|          | 0/5881 [00:00<?, ?it/s]"
      ]
     },
     "metadata": {},
     "output_type": "display_data"
    },
    {
     "name": "stderr",
     "output_type": "stream",
     "text": [
      "Generating walks (CPU: 1): 100%|██████████| 25/25 [00:38<00:00,  1.54s/it]\n",
      "Generating walks (CPU: 2): 100%|██████████| 25/25 [00:39<00:00,  1.56s/it]\n",
      "Generating walks (CPU: 3): 100%|██████████| 25/25 [00:39<00:00,  1.57s/it]\n",
      "Generating walks (CPU: 4): 100%|██████████| 25/25 [00:39<00:00,  1.58s/it]\n"
     ]
    },
    {
     "data": {
      "application/vnd.jupyter.widget-view+json": {
       "model_id": "f91fc39c3d0d45e2ad4194cffd4e51c2",
       "version_major": 2,
       "version_minor": 0
      },
      "text/plain": [
       "Computing transition probabilities:   0%|          | 0/5881 [00:00<?, ?it/s]"
      ]
     },
     "metadata": {},
     "output_type": "display_data"
    },
    {
     "name": "stderr",
     "output_type": "stream",
     "text": [
      "Generating walks (CPU: 1): 100%|██████████| 25/25 [00:38<00:00,  1.55s/it]\n",
      "Generating walks (CPU: 2): 100%|██████████| 25/25 [00:39<00:00,  1.56s/it]\n",
      "Generating walks (CPU: 3): 100%|██████████| 25/25 [00:39<00:00,  1.57s/it]\n",
      "Generating walks (CPU: 4): 100%|██████████| 25/25 [00:39<00:00,  1.58s/it]\n"
     ]
    },
    {
     "name": "stdout",
     "output_type": "stream",
     "text": [
      "       p     q  dims  silhouette  n_clusters  n_noise\n",
      "13  0.25  4.00    32    0.898525           2     5866\n",
      "12  0.25  4.00    16    0.762148          67     4649\n",
      "6   0.25  1.00    16    0.761963          63     4693\n",
      "27  0.50  4.00    16    0.754066          55     4726\n",
      "9   0.25  2.00    16    0.753994          66     4671\n",
      "42  1.00  4.00    16    0.744763          53     4791\n",
      "21  0.50  1.00    16    0.741747          45     4873\n",
      "24  0.50  2.00    16    0.738831          53     4775\n",
      "15  0.50  0.25    16    0.737253          36     4977\n",
      "3   0.25  0.50    16    0.732990          51     4804\n"
     ]
    }
   ],
   "source": [
    "def embed_and_cluster(p, q, dims):\n",
    "    # Train node2vec\n",
    "    n2v = Node2Vec(\n",
    "        graph=G,\n",
    "        dimensions=dims,\n",
    "        walk_length=30,\n",
    "        num_walks=100,\n",
    "        p=p,\n",
    "        q=q,\n",
    "        workers=4\n",
    "    )\n",
    "    model = n2v.fit(window=10, min_count=1, batch_words=4)\n",
    "    emb = model.wv.vectors    # shape (n_nodes, dims)\n",
    "    \n",
    "    # Scale + PCA (90% variance)\n",
    "    Xs = StandardScaler().fit_transform(emb)\n",
    "    Xp = PCA(n_components=0.90, random_state=42).fit_transform(Xs)\n",
    "    \n",
    "    # Run DBSCAN (Euclidean, default eps/min_samples)\n",
    "    db = DBSCAN(eps=0.5, min_samples=5, metric='euclidean')\n",
    "    labels = db.fit_predict(Xp)\n",
    "    \n",
    "    # Count clusters & noise\n",
    "    uniq = set(labels)\n",
    "    noise_count = (labels == -1).sum()\n",
    "    # remove noise label for cluster count\n",
    "    n_clusters = len(uniq - {-1})\n",
    "    \n",
    "    # Compute silhouette only if valid\n",
    "    if n_clusters >= 2 and (labels != -1).sum() >= 2:\n",
    "        mask = labels != -1\n",
    "        sil = silhouette_score(Xp[mask], labels[mask], metric='euclidean')\n",
    "    else:\n",
    "        sil = -1.0\n",
    "    \n",
    "    return sil, n_clusters, noise_count\n",
    "\n",
    "# Now sweep p, q, dims\n",
    "results = []\n",
    "for p in [0.25, 0.5, 1, 2, 4]:\n",
    "    for q in [0.25, 0.5, 1, 2, 4]:\n",
    "        for dims in [16, 32, 64]:\n",
    "            sil, nc, noise = embed_and_cluster(p, q, dims)\n",
    "            results.append({\n",
    "                'p': p, 'q': q, 'dims': dims,\n",
    "                'silhouette': sil,\n",
    "                'n_clusters': nc,\n",
    "                'n_noise': noise\n",
    "            })\n",
    "\n",
    "import pandas as pd\n",
    "df_results = pd.DataFrame(results)\n",
    "# Sort by silhouette descending\n",
    "df_results.sort_values('silhouette', ascending=False, inplace=True)\n",
    "print(df_results.head(10))"
   ]
  },
  {
   "cell_type": "code",
   "execution_count": 64,
   "id": "551b86cd-c3aa-4d14-86e0-29780895c90a",
   "metadata": {},
   "outputs": [
    {
     "data": {
      "application/vnd.jupyter.widget-view+json": {
       "model_id": "60f6a9345c284f04a58f68f8a9725ad0",
       "version_major": 2,
       "version_minor": 0
      },
      "text/plain": [
       "Computing transition probabilities:   0%|          | 0/5881 [00:00<?, ?it/s]"
      ]
     },
     "metadata": {},
     "output_type": "display_data"
    },
    {
     "name": "stderr",
     "output_type": "stream",
     "text": [
      "Generating walks (CPU: 1): 100%|██████████| 25/25 [00:27<00:00,  1.09s/it]\n",
      "Generating walks (CPU: 2): 100%|██████████| 25/25 [00:27<00:00,  1.09s/it]\n",
      "Generating walks (CPU: 3): 100%|██████████| 25/25 [00:27<00:00,  1.10s/it]\n",
      "Generating walks (CPU: 4): 100%|██████████| 25/25 [00:27<00:00,  1.09s/it]\n"
     ]
    }
   ],
   "source": [
    "p_best, q_best, dims_best = 0.25, 4.0, 16\n",
    "\n",
    "# Re-embed with best p, q, dims\n",
    "n2v = Node2Vec(G, dimensions=dims_best,\n",
    "               walk_length=30, num_walks=100,\n",
    "               p=p_best, q=q_best, workers=4)\n",
    "model = n2v.fit(window=10, min_count=1, batch_words=4)\n",
    "emb = model.wv.vectors\n",
    "\n",
    "# Scale + PCA → 90% var\n",
    "from sklearn.preprocessing import StandardScaler\n",
    "from sklearn.decomposition import PCA\n",
    "\n",
    "Xs = StandardScaler().fit_transform(emb)\n",
    "Xp = PCA(n_components=0.90, random_state=42).fit_transform(Xs)"
   ]
  },
  {
   "cell_type": "code",
   "execution_count": 104,
   "id": "732407db-0c60-4d64-88f3-1266315abdd2",
   "metadata": {},
   "outputs": [
    {
     "name": "stdout",
     "output_type": "stream",
     "text": [
      "New shape: (5881, 10)\n",
      "Explained variance ratio (first 5 PCs): [0.06661282 0.04624128 0.04107063 0.03021525 0.02782821]\n",
      "Total explained variance: 0.3298425557428057\n",
      "Clusters: 4  Noise: 5694\n"
     ]
    }
   ],
   "source": [
    "# Rescale\n",
    "scaler = StandardScaler()\n",
    "X_scaled = scaler.fit_transform(X)    # X is your raw embeddings\n",
    "\n",
    "# PCA to, say, 10 dimensions\n",
    "pca = PCA(n_components=10, random_state=42)\n",
    "Xp10 = pca.fit_transform(X_scaled)\n",
    "print(\"New shape:\", Xp10.shape)      # should be (5881, 10)\n",
    "\n",
    "# Inspect explained variance\n",
    "print(\"Explained variance ratio (first 5 PCs):\", pca.explained_variance_ratio_[:5])\n",
    "print(\"Total explained variance:\", pca.explained_variance_ratio_.sum())\n",
    "\n",
    "# Try DBSCAN immediately\n",
    "from sklearn.cluster import DBSCAN\n",
    "db = DBSCAN(eps=0.5, min_samples=10)\n",
    "labels = db.fit_predict(Xp10)\n",
    "\n",
    "print(\"Clusters:\", len(set(labels)-{-1}), \" Noise:\", (labels==-1).sum())"
   ]
  },
  {
   "cell_type": "code",
   "execution_count": 106,
   "id": "fa797acd-6a80-46b3-8adc-c79d32f6f128",
   "metadata": {},
   "outputs": [
    {
     "name": "stdout",
     "output_type": "stream",
     "text": [
      "    eps  min_samples  n_clusters  n_noise  silhouette\n",
      "23  0.6           20           2     5616    0.900889\n",
      "27  0.7           20           4     5413    0.863686\n",
      "18  0.5           10           4     5694    0.841853\n",
      "31  0.8           20           6     5274    0.836831\n",
      "22  0.6           10           7     5479    0.824586\n",
      "35  0.9           20           9     5154    0.814484\n",
      "26  0.7           10           9     5276    0.808118\n",
      "39  1.0           20           9     5125    0.806517\n",
      "17  0.5            5           7     5620    0.794947\n",
      "8   0.3            3           3     5871    0.755664\n"
     ]
    }
   ],
   "source": [
    "results = []\n",
    "# Scan eps from small to moderate, and a few min_samples values\n",
    "for eps in np.linspace(0.1, 1.0, 10):     # 0.1, 0.2, … ,1.0\n",
    "    for ms in [3, 5, 10, 20]:\n",
    "        db    = DBSCAN(eps=eps, min_samples=ms, metric='euclidean')\n",
    "        lbl   = db.fit_predict(Xp10)\n",
    "        n_cl  = len(set(lbl) - {-1})\n",
    "        n_n   = (lbl == -1).sum()\n",
    "        sil   = -1.0\n",
    "        if n_cl >= 2 and (lbl != -1).sum() > 1:\n",
    "            sil = silhouette_score(Xp10[lbl!=-1], lbl[lbl!=-1])\n",
    "        results.append((eps, ms, n_cl, n_n, sil))\n",
    "\n",
    "df = pd.DataFrame(results,\n",
    "                  columns=['eps','min_samples','n_clusters','n_noise','silhouette'])\n",
    "# Keep only the runs that actually produced ≥2 clusters\n",
    "df = df[df.n_clusters >= 2]\n",
    "# Sort by best silhouette, then most clusters, then fewest noise\n",
    "df = df.sort_values(['silhouette','n_clusters','n_noise'],\n",
    "                    ascending=[False,False,True])\n",
    "print(df.head(10))"
   ]
  },
  {
   "cell_type": "code",
   "execution_count": 116,
   "id": "b4a54639-edc5-4daa-a0ee-7b459f20ba39",
   "metadata": {},
   "outputs": [
    {
     "name": "stderr",
     "output_type": "stream",
     "text": [
      "/Users/austinmaxwell/opt/anaconda3/lib/python3.11/site-packages/sklearn/utils/deprecation.py:132: FutureWarning: 'force_all_finite' was renamed to 'ensure_all_finite' in 1.6 and will be removed in 1.8.\n",
      "  warnings.warn(\n",
      "/Users/austinmaxwell/opt/anaconda3/lib/python3.11/site-packages/umap/umap_.py:1952: UserWarning: n_jobs value 1 overridden to 1 by setting random_state. Use no seed for parallelism.\n",
      "  warn(\n"
     ]
    },
    {
     "data": {
      "image/png": "[encoded data removed]",
      "text/plain": [
       "<Figure size 600x600 with 1 Axes>"
      ]
     },
     "metadata": {},
     "output_type": "display_data"
    }
   ],
   "source": [
    "# Project PCA-10D down to 2D\n",
    "umap2d = UMAP(n_components=2, random_state=42).fit_transform(Xp10)\n",
    "\n",
    "# DBSCAN in 2D with a small min_samples\n",
    "db2     = DBSCAN(eps=0.5, min_samples=5)  \n",
    "labels2 = db2.fit_predict(umap2d)\n",
    "\n",
    "# Plot with legend\n",
    "fig, ax = plt.subplots(figsize=(6,6))\n",
    "scatter = ax.scatter(\n",
    "    umap2d[:,0], umap2d[:,1],\n",
    "    c=labels2, cmap='tab20', s=5, linewidths=0\n",
    ")\n",
    "\n",
    "# Build legend handles & labels\n",
    "handles, labl = scatter.legend_elements()\n",
    "ax.legend(\n",
    "    handles, labl,\n",
    "    title=\"Cluster\",\n",
    "    bbox_to_anchor=(1.05, 1),\n",
    "    loc='upper left',\n",
    "    borderaxespad=0\n",
    ")\n",
    "\n",
    "ax.set_title(\"DBSCAN on UMAP2D (eps=0.5, min_samples=5)\")\n",
    "ax.set_xlabel(\"UMAP 1\")\n",
    "ax.set_ylabel(\"UMAP 2\")\n",
    "plt.tight_layout()\n",
    "plt.show()"
   ]
  },
  {
   "cell_type": "code",
   "execution_count": 120,
   "id": "32058782-e76d-4dc5-8423-d943cd2efa7c",
   "metadata": {},
   "outputs": [
    {
     "name": "stderr",
     "output_type": "stream",
     "text": [
      "/Users/austinmaxwell/opt/anaconda3/lib/python3.11/site-packages/sklearn/utils/deprecation.py:132: FutureWarning: 'force_all_finite' was renamed to 'ensure_all_finite' in 1.6 and will be removed in 1.8.\n",
      "  warnings.warn(\n",
      "/Users/austinmaxwell/opt/anaconda3/lib/python3.11/site-packages/umap/umap_.py:1952: UserWarning: n_jobs value 1 overridden to 1 by setting random_state. Use no seed for parallelism.\n",
      "  warn(\n"
     ]
    },
    {
     "name": "stdout",
     "output_type": "stream",
     "text": [
      "           size   avg_out    avg_in  total_out  total_in\n",
      "cluster2d                                               \n",
      " 2         4200  1.520021  0.894044    29135.0   29223.0\n",
      " 0          656  1.195545  1.222256     2021.0    2024.0\n",
      " 4          456  1.353360  1.097102     1937.0    1936.0\n",
      " 1          292 -0.916777 -4.173332     1380.0    1408.0\n",
      " 5          125  0.803600  1.344825      327.0     240.0\n",
      " 3           49  2.022788  1.748984      353.0     344.0\n",
      " 10          37  1.812830  1.773198      106.0     108.0\n",
      " 8           18  2.515850  2.178571       83.0      67.0\n",
      " 9           15  2.121212  1.872727       25.0      25.0\n",
      " 6           13  1.641893  1.167003      150.0     144.0\n",
      " 7           12  2.358772  1.563739       56.0      55.0\n",
      " 11           6  0.166667  1.000000        6.0       6.0\n",
      "-1            2  1.227273  1.545455       13.0      12.0\n"
     ]
    }
   ],
   "source": [
    "# Project to 2D and cluster\n",
    "umap2d = UMAP(n_components=2, random_state=42).fit_transform(Xp10)\n",
    "db2     = DBSCAN(eps=0.5, min_samples=5)\n",
    "labels2 = db2.fit_predict(umap2d)\n",
    "\n",
    "# Build a DataFrame mapping each node → its 2D cluster\n",
    "df2d = pd.DataFrame({\n",
    "    'node': df_embed['node'],\n",
    "    'cluster2d': labels2\n",
    "})\n",
    "\n",
    "# Load your BTC-OTC edge list\n",
    "edges = pd.read_csv(\n",
    "    'soc-sign-bitcoinotc.csv',\n",
    "    header=None,\n",
    "    names=['source','target','rating','timestamp']\n",
    ")\n",
    "\n",
    "# Compute per-node rating stats\n",
    "src = edges.groupby('source').rating.agg(out_count='size', avg_out='mean')\n",
    "tgt = edges.groupby('target').rating.agg(in_count='size',  avg_in='mean')\n",
    "\n",
    "# Merge everything\n",
    "node2d = (\n",
    "    df2d.set_index('node')\n",
    "        .join(src, how='left')\n",
    "        .join(tgt, how='left')\n",
    "        .fillna(0)\n",
    "        .reset_index()\n",
    ")\n",
    "\n",
    "# Summarize by 2D-cluster\n",
    "summary2d = (node2d\n",
    "    .groupby('cluster2d')\n",
    "    .agg(\n",
    "      size      = ('node','count'),\n",
    "      avg_out   = ('avg_out','mean'),\n",
    "      avg_in    = ('avg_in','mean'),\n",
    "      total_out = ('out_count','sum'),\n",
    "      total_in  = ('in_count','sum')\n",
    "    )\n",
    "    .sort_values('size', ascending=False)\n",
    ")\n",
    "print(summary2d)"
   ]
  },
  {
   "cell_type": "markdown",
   "id": "5fd10f19-8ace-412c-936d-4b43636fd6ae",
   "metadata": {},
   "source": [
    "**Roles**\n",
    "| Cluster | Color (in your legend) | Size | avg\\_out | avg\\_in | Interpretation                                                                                                                                                                                    |\n",
    "| :-----: | :--------------------: | ---: | -------: | ------: | :------------------------------------------------------------------------------------------------------------------------------------------------------------------------------------------------ |\n",
    "|  **2**  |          Green         | 4200 |     1.52 |    0.89 | **Everyday traders.** This is the vast majority of nodes. They give modestly positive trust and receive modestly positive trust. Think casual users who both rate and get rated a bit above zero. |\n",
    "|  **0**  |       Light blue       |  656 |     1.20 |    1.22 | **Well-liked regulars.** A mid-sized community with slightly higher incoming than outgoing trust—reliable counter-parties who tend to earn a bit more trust than they give.                       |\n",
    "|  **4**  |         Purple         |  456 |     1.35 |    1.10 | **Optimistic raters.** They give out more trust than they get back, perhaps generous raters giving their first rating or connectors linking groups.                                                             |\n",
    "|  **1**  |         Orange         |  292 |    –0.92 |   –4.17 | **Distrusted cluster.** Net negative both in giving and receiving: these are the accounts that get flagged and flag others. Possible scammers or users with poor reputations.                       |\n",
    "|  **5**  |          Brown         |  125 |     0.80 |    1.34 | **Trust-recipients.** They receive substantially more trust than they give, perhaps new users who haven’t had many opportunities yet to rate others.                                               |\n",
    "|  **3**  |           Red          |   49 |     2.02 |    1.75 | **Trusted core.** A small clique of highly active, highly trusted users. They give very high ratings and get very high ratings back.                                                              |\n",
    "|  **10** |          Teal          |   37 |     1.81 |    1.77 | **Elite traders.** Similar to cluster 3 but even tighter—power users with excellent reputations on both sides.                                                                                    |\n",
    "|  **8**  |          Gray          |   18 |     2.52 |    2.18 | **Super-trusted givers.** They almost always assign top marks (avg\\_out >2) and earn top marks in return. Very small, very elite.                                                                 |\n",
    "|  **9**  |         Yellow         |   15 |     2.12 |    1.87 | **High-trust hubs.** Another tiny, highly positive cluster, likely “hubs” in the network who both give and get excellent scores.                                                                   |\n",
    "|  **6**  |       Light green      |   13 |     1.64 |    1.17 | **Moderate elites.** A micro-cluster of users with above-average outgoing trust but more modest incoming.                                                                                         |\n",
    "|  **7**  |          Pink          |   12 |     2.36 |    1.56 | **Generous, selective.** They give very high trust but receive a bit less in return.                                                                                                              |\n",
    "|  **11** |          Cyan          |    6 |     0.17 |    1.00 | **Quiet but trusted.** Very few ratings given (avg\\_out ≈0.17) but what little they do they do right and they’re trusted by others.                                                               |\n",
    "|  **–1** |      Navy (noise)      |    2 |     1.23 |    1.55 | **Outliers.** Only two nodes didn’t fit any dense region; they have small volumes of mostly positive interactions.                                                                                |\n"
   ]
  },
  {
   "cell_type": "code",
   "execution_count": 124,
   "id": "31ec30aa-6584-4b98-97dd-69d9d02cdb7a",
   "metadata": {},
   "outputs": [
    {
     "name": "stdout",
     "output_type": "stream",
     "text": [
      "Wrote cluster summary to cluster_summary_2d.csv\n"
     ]
    }
   ],
   "source": [
    "summary2d.to_csv('cluster_summary_2d.csv', index=True, index_label='cluster2d')\n",
    "print(\"Wrote cluster summary to cluster_summary_2d.csv\")"
   ]
  }
 ],
 "metadata": {
  "kernelspec": {
   "display_name": "Python [conda env:base] *",
   "language": "python",
   "name": "conda-base-py"
  },
  "language_info": {
   "codemirror_mode": {
    "name": "ipython",
    "version": 3
   },
   "file_extension": ".py",
   "mimetype": "text/x-python",
   "name": "python",
   "nbconvert_exporter": "python",
   "pygments_lexer": "ipython3",
   "version": "3.11.5"
  }
 },
 "nbformat": 4,
 "nbformat_minor": 5
}
